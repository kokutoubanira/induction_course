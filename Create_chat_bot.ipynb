{
 "cells": [
  {
   "cell_type": "markdown",
   "metadata": {},
   "source": [
    "# Pythonを使用してチャットボットを作成する"
   ]
  },
  {
   "cell_type": "markdown",
   "metadata": {},
   "source": [
    "## AIチャットボットの仕組み\n",
    "チャットボットとは、リアルタイムで短文のやり取りを行うことを意味する「チャット」と、一定の作業を自動化するロボットを意味する「ボット」を合わせた名称で、チャットでの質問に自動で返答するプログラムやアプリケーションのことです。AIチャットボットは、AI（人工知能）を搭載したチャットボットのことであり、AIが人間の発する「あいまいな」言葉や文脈を解釈し、的確に意図を読み取り、複雑な会話でも精度の高い回答を自動応答できるのが特徴です。<br>\n",
    "近年、スマートフォンの普及や機械学習とディープラーニング技術の進歩により、チャットボットの実用性や利便性が高くなっています。Facebook Mesengerやslackなどのメッセージングプラットフォーム上でチャットボットを作成する為のAPIだけでなく、チャットボットを支えるAIやロジックを作成するためのプラットフォームも登場しています。これにより開発社や企業に知識や経験があまりなくても、独自のチャットボットを簡単に導入できるようようになっています。"
   ]
  },
  {
   "cell_type": "markdown",
   "metadata": {},
   "source": [
    "## アプリケーション\n",
    "チャットボットは、小売り企業やニュース、さらには医療分野など、さまざまな業界の業務に活用できます、チャットボットの幅広いアプリケーションについて簡単に解説します。多くのユースケースは、成熟してきていますが、中にはまだ初期段階の者もあります。ユースケースは次の通りです。\n",
    "### ショッピングとEコマース\n",
    "近年、チャットボットは注文や注文の変更、決済など、様々なEコマース業務に利用されています。様々な商品を推薦するボットはEコマース業界でも注目されています。各業界ではより自然なユーザー体験を実現するために、会話型の推薦システムの構築に力を入れています。\n",
    "### ニュースや近鉄の検索\n",
    "Eコマースと同様にチャットボットはニュースや近鉄の検索にも利用できます。ユーザーが会話形式で様々なニュアンスを指定して検索するとボットが関連記事を返してくれるのです。\n",
    "### カスタマーサービス\n",
    "カスタマーサービスもボットが多様されている分野です。苦情の受付FAQへの回答、ビジネス要件に基づいて事前に設定された会話の流れに疎って、問い合わせを案内するために使われています。\n",
    "### 医療\n",
    "健康や医療の分野では、FAQボットが大いに活躍します。これらのボットは患者が自分の症状に応じて関連情報を素早く取得するのに役立ちます。最近では、患者、とくに高齢者の患者に質問することで、健康状態に関する有用な情報を引き出すチャットボットの構築も注目されています。\n",
    "### 法律\n",
    "法律関連のアプリケーションでは、ボットはユーザーにFAQを提供するのに使用されます。また、関連する質問をするなど、より複雑な目的にも使用できます。"
   ]
  },
  {
   "cell_type": "markdown",
   "metadata": {},
   "source": [
    "## シンプルなFAQボット\n",
    "FAQボットは、一般的に検索ベースのシステムです。質問が与えられると、正しい答えを探してユーザーに提示します。基本的にユーザーは様々な方法で質問をして、解凍を得ることができます。<br>\n",
    "複雑な質問対して会話形式のインターフェイスを提供するのに有効です。"
   ]
  },
  {
   "cell_type": "markdown",
   "metadata": {},
   "source": [
    "## チャットボットの分類方法\n",
    "\n",
    "### FAQ型チャットボット\n",
    "FAQ型チャットボットは、顧客から受けた質問内容を理解し、データベースの中から適切な回答を返信するチャットボットです。<br>\n",
    "顧客はチャットへ質問を書き込むだけで、適切な回答を受け取ることができます。<bt>\n",
    "こういったFAQ型のチャットボットについては、顧客向けの対応だけでなく、社内FAQとして活用する活用事例も生まれています。\n",
    "###  処理代行型チャットボット\n",
    "処理代行型チャットボットは、顧客との会話の中で得た情報を元に、システム処理を代行してくれるチャットボットです。<br>\n",
    "たとえば、希望日時および対象者をチャットに書き込むと、対象者の都合を踏まえた候補日時をピックアップしてくれたり、日時確定の返信をすると参加者全員のスケジュールを確定できたりします。<br>\n",
    "このようにチャットボットが後処理業務を代行することで処理の自動化による生産性や品質の改善が期待されています。\n",
    "\n",
    "###  配信型チャットボット\n",
    "配信型チャットボットは、顧客と会話をおこなうことが目的ではなく、決められたタイミングで情報を配信するチャットボットです。<br>\n",
    "新商品情報などの配信サービスは、メールを活用することですでに多くの会社が実施していますので、「伝達媒体をメールからチャットに変えただけ」ですが、アラート機能などにも活用されています。\n",
    "\n",
    "### 雑談型チャットボット\n",
    "雑談型チャットボットは、顧客の疑問の解決ではなく、顧客との会話を成立させることを目的とするチャットボットです。<br>\n",
    "顧客とのゆるい会話を続けるようなケースでの利用が挙げられます。<br>\n",
    "雑談型は直接的な効果というよりは、ブランディングやロイヤリティの向上といった領域を中心に活用が期待されているチャットボットになります。"
   ]
  },
  {
   "cell_type": "markdown",
   "metadata": {},
   "source": [
    "## 構築方法による分類\n",
    "### 限られた応答しかできないFAQボット\n",
    "このタイプのチャットボットは決められた応答集合に紐づけられており、ユーザーのクエリを理解したうえで正しい応答を取得します。例えば、FAQボットを作る場合、ボットは質問を理解し、質問に対する決まった正解を取り出す必要が在ります。このタイプのボットでは、一般的にユーザーへの応答は、過去の応答に依存しないという特徴があります。\n",
    "### フローベースのボット\n",
    "フローベースの会話型ボットは、一般に敵に、応答の変動制という点で、FAQボットよりも複雑です。ユーザーは、会話の中で少しづつ自分の意見や要望を伝えて行くことができます。\n",
    "### オープンエンドボット\n",
    "オープンエンドボットは、主にエンターテインメントを目的としたボットで、ボットでユーザーと様々なトピックに就ていて会話することを想定しています。ボットは、会話の方向性や流れを保つ必要はありません。"
   ]
  },
  {
   "cell_type": "markdown",
   "metadata": {},
   "source": [
    "以下チャットボットサンプル"
   ]
  },
  {
   "cell_type": "code",
   "execution_count": 54,
   "metadata": {},
   "outputs": [],
   "source": [
    "def html():\n",
    "    text = \"\"\"\n",
    "    <!DOCTYPE html>\n",
    "    <html>\n",
    "    <head>\n",
    "        <meta charset=\"UTF-8\">\n",
    "        <meta name=\"viewport\" content=\"width=device-width, initial-scale=1, maximum-scale=1\">\n",
    "        <title>チャットボット</title>\n",
    "    </head>\n",
    "    <body>\n",
    "    <script src=\"https://riversun.github.io/chatux/chatux.min.js\"></script>\n",
    "    <script>\n",
    "        const chatux = new ChatUx();\n",
    "        const initParam =\n",
    "            {\n",
    "                renderMode: 'auto',\n",
    "                api: {\n",
    "                    endpoint: 'http://localhost:5000/test',\n",
    "                    method: 'GET',\n",
    "                    dataType: 'jsonp',\n",
    "                },\n",
    "\n",
    "                bot: {\n",
    "                    //起動時に送信されるテキスト\n",
    "                    wakeupText: 'HI',\n",
    "                    botPhoto: 'https://1.bp.blogspot.com/-tVeC6En4e_E/X96mhDTzJNI/AAAAAAABdBo/jlD_jvZvMuk3qUcNjA_XORrA4w3lhPkdQCNcBGAsYHQ/s1048/onepiece01_luffy.png',\n",
    "                    humanPhoto: null,\n",
    "                    widget: {\n",
    "                        sendLabel: '送信',\n",
    "                        placeHolder: '質問事項を入力してください。'\n",
    "                    }\n",
    "                },\n",
    "                window: {\n",
    "                    title: 'お問い合わせ',\n",
    "                    infoUrl: 'http://localhost:5000'\n",
    "                },\n",
    "                 methods: {\n",
    "                onChatWindowCreate: (win) => {\n",
    "                    //Called only once when a chat window is created\n",
    "                    const response = {\"output\": [{\"type\": \"text\", \"value\": 'You said '}]};\n",
    "                    return response;\n",
    "                }\n",
    "            }\n",
    "            };\n",
    "        chatux.init(initParam);\n",
    "        chatux.start(true);\n",
    "    </script>\n",
    "    </body>\n",
    "    </html>\n",
    "    \"\"\"\n",
    "    return text"
   ]
  },
  {
   "cell_type": "code",
   "execution_count": 55,
   "metadata": {},
   "outputs": [
    {
     "name": "stdout",
     "output_type": "stream",
     "text": [
      " * Serving Flask app \"__main__\" (lazy loading)\n",
      " * Environment: production\n",
      "   WARNING: This is a development server. Do not use it in a production deployment.\n",
      "   Use a production WSGI server instead.\n",
      " * Debug mode: off\n"
     ]
    },
    {
     "name": "stderr",
     "output_type": "stream",
     "text": [
      " * Running on http://127.0.0.1:5000/ (Press CTRL+C to quit)\n",
      "127.0.0.1 - - [28/Mar/2022 16:01:16] \"\u001b[37mGET / HTTP/1.1\u001b[0m\" 200 -\n",
      "127.0.0.1 - - [28/Mar/2022 16:01:17] \"\u001b[37mGET /test?text=HI&callback=chatux_2452b8d3_43f1_447d_921f_0bb5261eebcf HTTP/1.1\u001b[0m\" 200 -\n",
      "127.0.0.1 - - [28/Mar/2022 16:01:24] \"\u001b[37mGET / HTTP/1.1\u001b[0m\" 200 -\n",
      "127.0.0.1 - - [28/Mar/2022 16:01:25] \"\u001b[37mGET /test?text=HI&callback=chatux_e4ca2061_997e_4e61_bedf_b9684288e098 HTTP/1.1\u001b[0m\" 200 -\n"
     ]
    }
   ],
   "source": [
    "import json\n",
    "from flask import Flask, request\n",
    "app = Flask(__name__)\n",
    "\n",
    "@app.route(\"/\")\n",
    "def route():\n",
    "    return html()\n",
    "\n",
    "\n",
    "@app.route('/test')\n",
    "def get_request():\n",
    "    value = request.args.get('text', '')\n",
    "    callback = request.args.get('callback', '')\n",
    "    if (value.find('おはよう') != -1):\n",
    "        value = 'おはようございます。<br>ごきげんはいかがですか？'\n",
    "    if (value.find('元気') != -1):\n",
    "        value = '元気でよかったですね'\n",
    "    if (value.find('天気') != -1):\n",
    "        value = '今日の天気は晴れです。'\n",
    "    dic = {'output' : [{'type' : 'text', 'value' : value }] }\n",
    "    contents = callback + '(' + json.dumps(dic) + ')'\n",
    "    return contents\n",
    "\n",
    "app.run()"
   ]
  },
  {
   "cell_type": "markdown",
   "metadata": {},
   "source": [
    "## Python+FlaskでWEBアプリケーションを構築\n",
    "上記のチャットボットではWebアプリケーションフレームワーク「Flask」を使ってアプリケーションを作成しています。\n",
    "Flask（フラスコ/フラスク）はPythonのWebアプリケーションフレームワークで、小規模向けの簡単なWebアプリケーションを作るのに適しているフレームワークです。\n"
   ]
  },
  {
   "cell_type": "markdown",
   "metadata": {},
   "source": [
    "### Flaskを動かしてみる"
   ]
  },
  {
   "cell_type": "code",
   "execution_count": null,
   "metadata": {},
   "outputs": [],
   "source": [
    "#Flaskとrender_template（HTMLを表示させるための関数）をインポート\n",
    "from flask import Flask,render_template\n",
    "\n",
    "#Flaskオブジェクトの生成\n",
    "app = Flask(__name__)\n",
    "\n",
    "\n",
    "#「/」へアクセスがあった場合に、\"Hello World\"の文字列を返す\n",
    "@app.route(\"/\")\n",
    "def hello():\n",
    "    return \"Hello World\"\n",
    "\n",
    "\n",
    "#「/index」へアクセスがあった場合に、「index.html」を返す\n",
    "@app.route(\"/index\")\n",
    "def index():\n",
    "    return render_template(\"index.html\")\n",
    "\n",
    "\n",
    "#おまじない\n",
    "app.run(debug=True)"
   ]
  },
  {
   "cell_type": "markdown",
   "metadata": {},
   "source": [
    "## 天気予報ボット\n",
    "ユーザが質問すると天気情報を返してくれる天気情報案内システムを具体例として取り上げます・単純なシステムですがタスク指向システムの原理を理解するにはわかりやすいと思います。タスク指向型対話システムとして典型的なモノです。このシステムが実現できれば様々なタスクへの応用もききます。\n",
    "天気情報へのアクセスは用途として上位３に入っています。日常的な用途に限れば楽曲の再生に次いで2位になります。\n",
    "\n",
    "タスク指向型対話システムを実現する方法はいくつかあります。ここでは状態遷移に基づく方法を紹介します。"
   ]
  },
  {
   "cell_type": "markdown",
   "metadata": {},
   "source": [
    "### 状態遷移に基づくタスク指向型対話システム\n",
    "最もシンプルなタスク指向型対話システムを実現する方法は、状態遷移を用いてるものです。このようなシステムは状態遷移ベースのシステムやネットワーク方式の対話システムと呼ばれます。このやり方では対話をいくつかの状態の遷移ととらえます。初期状態から状態を遷移していき、終了までたどり着けばタスクの達成となります・\n",
    "電話やbot、画面遷移などで予約をする際に選択などを行っていくイメージです。状態遷移に基づく対話システムではまず、システムからユーザに発話を行います。\n",
    "\n",
    "天気安愛システムでは３つの情報を聞き出す必要があります。\n",
    "ユーザから聞き出す情報は、地名、日付、情報種別になります。地名は都道府県のいずれか、日付は今日・明日、情報種別は気温・天気のいずれかになります。聞き出す情報が集まったら状態を作成する必要があります。３つの情報を聞き出す状態を作成する必要があります。また、情報が集まったら天気情報を伝える状態が必要になります。\n",
    "\n",
    "![](./utils/%E3%82%AA%E3%83%BC%E3%83%88%E3%83%9E%E3%83%88%E3%83%B3.png)\n",
    "\n",
    "一番最初に訪れる状態のことを開始状態と呼びます。また、一番最後に乙津れる状態のことを終了状態と呼びます。\n",
    "\n",
    "状態１(開始状態)では、状態１に紐づいた発話を行います。例えば「地名を行ってください」です。そしてユーザからの入力を待ちます。ユーザの入力に都道府県名のいずれかが見つかれば、その情報を記憶し、次の状態に遷移します。もし都道府件名が見つからなければ、再度地名を尋ねます。\n",
    "\n",
    "状態2では日付について同様のことを行います。まず「日付を行ってください」と発話を行います。そして　ユーザの入力に「今日」もしくは「明日」が見つかれば、その情報を記憶し、次の状態に遷移します。「今日」もしくは「明日」が見つからなければ、再度日付を尋ねます。\n",
    "\n",
    "状態3では情報種別について同様のことを行います。「情報種別を行ってください」と発話し、ユーザ入浴に「天気」か「気温」のいずれかが見つかれば、その情報を記憶し、次の状態に遷移します。次の状態とはユーザに天気情報を伝える状態（終了状態）です。日付の場合と同様、システムは「天気ですか気温ですか」と言っても良いかもしれません。\n",
    "最後の状態では得られた地名、日付、情報種別の情報を用いて天気情報のデータベースにアクセスして天気情報を得ます。天気情報を教えてくれる外部APIはいくつも世の中にあります。これらにアクセスすることで天気情報を得て最後にその情報をユーザに伝えて対話終了です。流れはシンプルです。"
   ]
  },
  {
   "cell_type": "markdown",
   "metadata": {},
   "source": [
    "### Pythonで状態遷移\n",
    "Pythonには様々なパッケージがありますが、状態遷移を割と簡単に実装できる多機能なパッケージ「transitions」があるのでそれを利用します。\n",
    "ソフトウェアで状態遷移を実装する場合、平に条件分岐などで書いていっても良いと思いますが、Pythonの場合は今回紹介する「transitions」が便利。"
   ]
  },
  {
   "cell_type": "markdown",
   "metadata": {},
   "source": [
    "### 状態遷移とは\n",
    "システムにおいて、とある「状態」と「イベント」を定義し、それら各状態において各種イベントが起こった際、どういう状態の変化を行うか（一般的に状態が別の状態に移行することを遷移という）、イベントによってどのようなアクションを行うかといった事を記載する動的設計/実装手法です。\n",
    "システムを「状態」と「イベント」、あとは「遷移」という形で整理することで、「この状態にあるとき、このイベントが起こった際はこの状態に遷移してこのアクションがおこる」という事が比較的容易に理解できシステムの動的な振る舞いを表現しやすいので、組込みシステムでは多く使用されています。\n",
    "\n",
    "transitionsは状態遷移に関する色々な事ができますが代表的な事としては以下の通り。\n",
    "\n",
    "- ステートマシンとしての振る舞いを組み込む\n",
    "- イベントが起きた際の状態管理\n",
    "- 移前後やイベントが起こった際のアクション（コールバックメソッドの呼び出し）\n",
    "- ガード判定の設定\n",
    "- 階層的ステートマシンの実現（Hierarchical State Machine）\n",
    "- 実装した状態遷移のグラフ化（状態遷移図として出力できる）"
   ]
  },
  {
   "cell_type": "code",
   "execution_count": null,
   "metadata": {},
   "outputs": [],
   "source": [
    "!pip install transitions"
   ]
  },
  {
   "cell_type": "markdown",
   "metadata": {},
   "source": [
    "#### サンプルコード\n",
    "ここではまずlumpオブジェクトに対する「ステートマシンの実装」と「実装したステートマシンに対するイベントの起こし方」、「イベント発生時の状態遷移やアクションの実行」について確認してみます。\n",
    "##### ステートマシンの定義と実装"
   ]
  },
  {
   "cell_type": "code",
   "execution_count": 39,
   "metadata": {},
   "outputs": [],
   "source": [
    "from transitions import Machine\n",
    "\n",
    "#状態の定義\n",
    "states = ['solid', 'liquid', 'gas', 'plasma']\n",
    "\n",
    "#遷移の定義\n",
    "# trigger：遷移の引き金になるイベント、source：トリガーイベントを受ける状態、dest：トリガーイベントを受けた後の状態\n",
    "# before：遷移前に実施されるコールバック、after：遷移後に実施されるコールバック\n",
    "transitions = [\n",
    "    { 'trigger': 'melt',       'source': 'solid',   'dest': 'liquid'},\n",
    "    { 'trigger': 'evaporate',  'source': 'liquid',  'dest': 'gas',     'before': 'action_l2g'},\n",
    "    { 'trigger': 'sublimate',  'source': 'solid',   'dest': 'gas'},\n",
    "    { 'trigger': 'ionize',     'source': 'gas',     'dest': 'plasma',  'after': 'action_g2p'}\n",
    "]\n",
    "\n",
    "#状態を管理したいオブジェクトの元となるクラス\n",
    "# 遷移時やイベント発生時のアクションがある場合は、当クラスのmethodに記載する\n",
    "class Matter(object):\n",
    "    def action_l2g(self):\n",
    "        print(\"*** from liquid to gas ***\")\n",
    "\n",
    "    def action_g2p(self):\n",
    "        print(\"*** from gas to plasma ***\")\n",
    "\n",
    "lump = Matter()\n",
    "machine = Machine(model=lump, states=states, transitions=transitions, initial='liquid', auto_transitions=False)"
   ]
  },
  {
   "cell_type": "markdown",
   "metadata": {},
   "source": [
    "ステートマシンの状態(states)と遷移（transitions）を定義し、Machineクラスを用いてlumpオブジェクトにステートマシンを設定しているだけです。\n",
    "lumpオブジェクトはMatterクラスから出来ていますが、Machineクラスによりstatesやtransitions等で設定された状態/遷移を持つステートマシンが組み込まれた状態となっています（元のlumpオブジェクトに組み込まれる）。\n",
    "次にlumpオブジェクトに組み込まれたステートマシンに対し各種イベントを起こしたり、状態の確認などを行ってみます。\n",
    "最初に現在の状態を確認してみましょう。現在の状態はstateプロパティを使うことで確認できます。\n",
    "各種イベントの発生や状態の確認はMachineの戻り値であるmachineオブジェクトではなく、Machineクラスのmodel引数に指定したオブジェクト（ここではlump）が実態になるので、lumpに対し各種ステートマシンに関するメソッドやプロパティを実施します。"
   ]
  },
  {
   "cell_type": "code",
   "execution_count": 40,
   "metadata": {},
   "outputs": [
    {
     "data": {
      "text/plain": [
       "'liquid'"
      ]
     },
     "execution_count": 40,
     "metadata": {},
     "output_type": "execute_result"
    }
   ],
   "source": [
    "lump.state"
   ]
  },
  {
   "cell_type": "code",
   "execution_count": 41,
   "metadata": {},
   "outputs": [
    {
     "name": "stdout",
     "output_type": "stream",
     "text": [
      "*** from liquid to gas ***\n"
     ]
    },
    {
     "data": {
      "text/plain": [
       "True"
      ]
     },
     "execution_count": 41,
     "metadata": {},
     "output_type": "execute_result"
    }
   ],
   "source": [
    "lump.evaporate()"
   ]
  },
  {
   "cell_type": "code",
   "execution_count": 42,
   "metadata": {},
   "outputs": [
    {
     "data": {
      "text/plain": [
       "'gas'"
      ]
     },
     "execution_count": 42,
     "metadata": {},
     "output_type": "execute_result"
    }
   ],
   "source": [
    "lump.state"
   ]
  },
  {
   "cell_type": "markdown",
   "metadata": {},
   "source": [
    "上記はliquid状態においてevaporateイベントを起こしたことで、（transitionsで定義した通り）次の状態であるgas状態に遷移したことになります。その際、beforeに指定しておいたコールバック（action_l2g）が呼ばれて、action_l2gメソッド内のprint文が実行されています。\n",
    "また、イベント名をメソッド的に指定しなくても以下の通りイベント名の文字列とtriggerメソッドを使ってトリガーイベントを起こさせることもできます。\n",
    "次は現在の状態(gas状態)でionizeイベントを起こし、plasma状態に遷移してみましょう。"
   ]
  },
  {
   "cell_type": "code",
   "execution_count": 43,
   "metadata": {},
   "outputs": [
    {
     "name": "stdout",
     "output_type": "stream",
     "text": [
      "*** from gas to plasma ***\n"
     ]
    },
    {
     "data": {
      "text/plain": [
       "True"
      ]
     },
     "execution_count": 43,
     "metadata": {},
     "output_type": "execute_result"
    }
   ],
   "source": [
    "lump.trigger('ionize')"
   ]
  },
  {
   "cell_type": "code",
   "execution_count": 44,
   "metadata": {},
   "outputs": [
    {
     "data": {
      "text/plain": [
       "'plasma'"
      ]
     },
     "execution_count": 44,
     "metadata": {},
     "output_type": "execute_result"
    }
   ],
   "source": [
    "lump.state"
   ]
  },
  {
   "cell_type": "markdown",
   "metadata": {},
   "source": [
    "こちらも同様にionizeイベントにより遷移した際に、transitionsのafterに定義しておいたコールバック（action_g2p）が実施され、action_g2p内のprint文が実行されています。\n",
    "なおtransitionsの定義において、遷移時のアクションとして'before'にコールバックを指定した場合では、コールバックが実施されるのは遷移「前」の状態(transitionsに定義したsource)で実施されます。一方で'after'にコールバックを指定した場合は遷移「後」の状態(transitionsに定義したdest上)で実施される点に注意。\n",
    "\n",
    "その他、現在の状態において定義されていない遷移のイベントが発生すると通常MachineError例外が発生します。\n",
    "例えばliquid状態においてionizeイベントを発生させた場合はMachineErrorが発生し、遷移が発生しない上にafterやbeforeのコールバックも実施されません。"
   ]
  },
  {
   "cell_type": "markdown",
   "metadata": {},
   "source": [
    "#### クラスとして実装する\n",
    "上記サンプルコードをクラスとして定義すると以下の通りになります。やってることは同じ。\n",
    "遷移の定義は上記サンプルの通りtransitionsでまとめて定義してMachineクラス呼び出し時にtransitions引数に設定しても良いですし、下記のようにMachineでオブジェクトを作った後にadd_transitionで個別に追加していってもかまいません。"
   ]
  },
  {
   "cell_type": "code",
   "execution_count": 46,
   "metadata": {},
   "outputs": [],
   "source": [
    "class StateMachine(object):\n",
    "    #状態の定義\n",
    "    states = ['solid', 'liquid', 'gas', 'plasma']\n",
    "\n",
    "    #初期化（ステートマシンの定義：とりうる状態の定義、初期状態の定義、各種遷移と紐付くアクションの定義）\n",
    "    def __init__(self, name):\n",
    "        self.name = name\n",
    "        self.machine = Machine(model=self, states=StateMachine.states, initial='liquid', auto_transitions=False)\n",
    "        self.machine.add_transition(trigger='melt',      source='solid',  dest='liquid')\n",
    "        self.machine.add_transition(trigger='evaporate', source='liquid', dest='gas',    before='action_l2g')\n",
    "        self.machine.add_transition(trigger='sublimate', source='solid',  dest='gas')\n",
    "        self.machine.add_transition(trigger='ionize',    source='gas',    dest='plasma', after='action_g2p')\n",
    "\n",
    "    #以下、遷移時のアクション\n",
    "    def action_l2g(self):\n",
    "        print(\"*** from liquid to gas ***\")\n",
    "\n",
    "    def action_g2p(self):\n",
    "        print(\"*** from gas to plasma ***\")"
   ]
  },
  {
   "cell_type": "code",
   "execution_count": 57,
   "metadata": {},
   "outputs": [],
   "source": [
    "lump = StateMachine('lump')"
   ]
  },
  {
   "cell_type": "code",
   "execution_count": 58,
   "metadata": {},
   "outputs": [
    {
     "data": {
      "text/plain": [
       "'liquid'"
      ]
     },
     "execution_count": 58,
     "metadata": {},
     "output_type": "execute_result"
    }
   ],
   "source": [
    "lump.state"
   ]
  },
  {
   "cell_type": "code",
   "execution_count": 59,
   "metadata": {},
   "outputs": [
    {
     "name": "stdout",
     "output_type": "stream",
     "text": [
      "*** from liquid to gas ***\n"
     ]
    },
    {
     "data": {
      "text/plain": [
       "True"
      ]
     },
     "execution_count": 59,
     "metadata": {},
     "output_type": "execute_result"
    }
   ],
   "source": [
    "lump.evaporate()"
   ]
  },
  {
   "cell_type": "code",
   "execution_count": 60,
   "metadata": {},
   "outputs": [
    {
     "data": {
      "text/plain": [
       "'gas'"
      ]
     },
     "execution_count": 60,
     "metadata": {},
     "output_type": "execute_result"
    }
   ],
   "source": [
    "lump.state"
   ]
  },
  {
   "cell_type": "code",
   "execution_count": 61,
   "metadata": {},
   "outputs": [
    {
     "name": "stdout",
     "output_type": "stream",
     "text": [
      "*** from gas to plasma ***\n"
     ]
    },
    {
     "data": {
      "text/plain": [
       "True"
      ]
     },
     "execution_count": 61,
     "metadata": {},
     "output_type": "execute_result"
    }
   ],
   "source": [
    "lump.trigger('ionize')"
   ]
  },
  {
   "cell_type": "code",
   "execution_count": 54,
   "metadata": {},
   "outputs": [
    {
     "data": {
      "text/plain": [
       "'plasma'"
      ]
     },
     "execution_count": 54,
     "metadata": {},
     "output_type": "execute_result"
    }
   ],
   "source": [
    "lump.state"
   ]
  },
  {
   "cell_type": "markdown",
   "metadata": {},
   "source": [
    "### pythonで天気予報APIをたたく\n",
    "無料で天気情報をAPIで提供しているOpenWeatherMapを利用します。\n",
    "![OpenWeatherMap](https://openweathermap.org/)はGUIで天気予報を取得することができるのですが、今回はAPIを使って天気や気温を取ってきます。"
   ]
  },
  {
   "cell_type": "markdown",
   "metadata": {},
   "source": [
    "### 初期設定\n",
    "いくつかプランがあるので、無料のプランに登録し、APIkeyを手に入れます。無料枠だと5日後までの天気予報を取得出来て、1分間に60回までのAPIコール制限があります。"
   ]
  },
  {
   "cell_type": "markdown",
   "metadata": {},
   "source": [
    "#### 天気予報を取得する\n",
    "エンドポイントはapi.openweathermap.org/data/2.5/weather\n",
    "パラメータは下記の通り\n",
    "|パラメーター|説明|\n",
    "|-----------|-------|\n",
    "|q|都市名|\n",
    "|appid|APIkey|\n",
    "|mode |応答方式|\n",
    "|units |測定単位|\n",
    "|lang|出力言語|"
   ]
  },
  {
   "cell_type": "markdown",
   "metadata": {},
   "source": [
    "### 都市名を指定してAPIリクエストを送る"
   ]
  },
  {
   "cell_type": "code",
   "execution_count": 62,
   "metadata": {},
   "outputs": [
    {
     "name": "stdout",
     "output_type": "stream",
     "text": [
      "{\n",
      "    \"dt\": 1648533600,\n",
      "    \"main\": {\n",
      "        \"temp\": 286.18,\n",
      "        \"feels_like\": 284.97,\n",
      "        \"temp_min\": 286.18,\n",
      "        \"temp_max\": 287.36,\n",
      "        \"pressure\": 1025,\n",
      "        \"sea_level\": 1025,\n",
      "        \"grnd_level\": 1022,\n",
      "        \"humidity\": 55,\n",
      "        \"temp_kf\": -1.18\n",
      "    },\n",
      "    \"weather\": [\n",
      "        {\n",
      "            \"id\": 803,\n",
      "            \"main\": \"Clouds\",\n",
      "            \"description\": \"broken clouds\",\n",
      "            \"icon\": \"04d\"\n",
      "        }\n",
      "    ],\n",
      "    \"clouds\": {\n",
      "        \"all\": 83\n",
      "    },\n",
      "    \"wind\": {\n",
      "        \"speed\": 1.27,\n",
      "        \"deg\": 201,\n",
      "        \"gust\": 1.88\n",
      "    },\n",
      "    \"visibility\": 10000,\n",
      "    \"pop\": 0,\n",
      "    \"sys\": {\n",
      "        \"pod\": \"d\"\n",
      "    },\n",
      "    \"dt_txt\": \"2022-03-29 06:00:00\"\n",
      "}\n"
     ]
    }
   ],
   "source": [
    "import json\n",
    "import requests\n",
    "\n",
    "#パラメーター\n",
    "params={\"q\":\"Kobe\",\"appid\":apikey }# 自身のAPPIDを入れてください\n",
    "\n",
    "url=\"http://api.openweathermap.org/data/2.5/forecast\"\n",
    "res=requests.get(url,params=params)\n",
    "\n",
    "k=res.json()\n",
    "jsonText = json.dumps(k[\"list\"][0], indent=4)\n",
    "print(jsonText)"
   ]
  },
  {
   "cell_type": "markdown",
   "metadata": {},
   "source": [
    "天気予報は取得できたのですが14時に取得したデータが\"dt_txt\": \"22022-03-29 06:00:00\"なのでリアルタイムの情報ではなく日単位での取得になります。一番近い時間帯の情報を取得することで解決。"
   ]
  },
  {
   "cell_type": "markdown",
   "metadata": {},
   "source": [
    "### 天気予報を表示\n",
    "情報自体は取得できたので気温、湿度、天気、風速、取得日時を抜き出して天気予報っぽく表示します。"
   ]
  },
  {
   "cell_type": "code",
   "execution_count": 63,
   "metadata": {},
   "outputs": [
    {
     "name": "stdout",
     "output_type": "stream",
     "text": [
      "都市：Kobe\n",
      "\n",
      "気温： 286.18\n",
      "湿度： 55\n",
      "天気： Clouds\n",
      "風速： 1.27\n",
      "取得日時： 2022-03-29 06:00:00\n",
      "\n",
      "気温： 286.23\n",
      "湿度： 62\n",
      "天気： Clouds\n",
      "風速： 2.17\n",
      "取得日時： 2022-03-29 09:00:00\n",
      "\n",
      "気温： 285.58\n",
      "湿度： 75\n",
      "天気： Clouds\n",
      "風速： 0.56\n",
      "取得日時： 2022-03-29 12:00:00\n",
      "\n",
      "気温： 284.83\n",
      "湿度： 79\n",
      "天気： Clouds\n",
      "風速： 1.81\n",
      "取得日時： 2022-03-29 15:00:00\n",
      "\n",
      "気温： 284.5\n",
      "湿度： 84\n",
      "天気： Clouds\n",
      "風速： 1.44\n",
      "取得日時： 2022-03-29 18:00:00\n",
      "\n"
     ]
    }
   ],
   "source": [
    "jsonText=res.json()\n",
    "\n",
    "print(\"都市：Kobe\",end=\"\\n\\n\")\n",
    "for i in range(0,5):\n",
    "\n",
    "    print(\"気温：\",jsonText[\"list\"][i][\"main\"][\"temp\"])#気温\n",
    "    print(\"湿度：\",jsonText[\"list\"][i][\"main\"][\"humidity\"])#湿度\n",
    "    print(\"天気：\",jsonText[\"list\"][i][\"weather\"][0][\"main\"])#天気\n",
    "    print(\"風速：\",jsonText[\"list\"][i][\"wind\"][\"speed\"])#風速\n",
    "    print(\"取得日時：\",jsonText[\"list\"][i][\"dt_txt\"],end=\"\\n\\n\")#取得日時"
   ]
  },
  {
   "cell_type": "markdown",
   "metadata": {},
   "source": [
    "# 以下天気予報Bot実装"
   ]
  },
  {
   "cell_type": "code",
   "execution_count": 9,
   "metadata": {},
   "outputs": [],
   "source": [
    "import requests\n",
    "import json\n",
    "from datetime import datetime, timedelta, time\n",
    "import MeCab\n",
    "# 都道府県名から緯度と経度を取得するための辞書\n",
    "prefs = [\"北海道\",\"青森\",\"岩手\",\"宮城\",\"秋田\",\"山形\",\n",
    "\"福島\",\"茨城\",\"栃木\",\"群馬\",\"埼玉\",\"千葉\",\"東京\",\"神奈川\",\"新潟\",\n",
    "\"富山\",\"石川\",\"福井\",\"山梨\",\"長野\",\"岐阜\",\"静岡\",\"愛知\",\"三重\",\"滋賀\",\n",
    "\"京都\",\"大阪\",\"兵庫\",\"奈良\",\"和歌山\",\"鳥取\",\"島根\",\"岡山\",\"広島\",\"山口\",\"徳島\",\n",
    "\"香川\",\"愛媛\",\"高知\",\"福岡\",\"佐賀\",\"長崎\",\"熊本\",\"大分\",\"宮崎\",\"鹿児島\",\"沖縄\"]\n",
    "\n",
    "\n",
    "# 都道府県名から緯度と経度を取得するための辞書\n",
    "latlondic = {'北海道': (43.06, 141.35), '青森': (40.82, 140.74), '岩手': (39.7, 141.15), '宮城': (38.27, 140.87),\n",
    "                '秋田': (39.72, 140.1), '山形': (38.24, 140.36), '福島': (37.75, 140.47), '茨城': (36.34, 140.45),\n",
    "                '栃木': (36.57, 139.88), '群馬': (36.39, 139.06), '埼玉': (35.86, 139.65), '千葉': (35.61, 140.12),\n",
    "                '東京': (35.69, 139.69), '神奈川': (35.45, 139.64), '新潟': (37.9, 139.02), '富山': (36.7, 137.21),\n",
    "                '石川': (36.59, 136.63), '福井': (36.07, 136.22), '山梨': (35.66, 138.57), '長野': (36.65, 138.18),\n",
    "                '岐阜': (35.39, 136.72), '静岡': (34.98, 138.38), '愛知': (35.18, 136.91), '三重': (34.73, 136.51),\n",
    "                '滋賀': (35.0, 135.87), '京都': (35.02, 135.76), '大阪': (34.69, 135.52), '兵庫': (34.69, 135.18),\n",
    "                '奈良': (34.69, 135.83), '和歌山': (34.23, 135.17), '鳥取': (35.5, 134.24), '島根': (35.47, 133.05),\n",
    "                '岡山': (34.66, 133.93), '広島': (34.4, 132.46), '山口': (34.19, 131.47), '徳島': (34.07, 134.56),\n",
    "                '香川': (34.34, 134.04), '愛媛': (33.84, 132.77), '高知': (33.56, 133.53), '福岡': (33.61, 130.42),\n",
    "                '佐賀': (33.25, 130.3), '長崎': (32.74, 129.87), '熊本': (32.79, 130.74), '大分': (33.24, 131.61),\n",
    "                '宮崎': (31.91, 131.42), '鹿児島': (31.56, 130.56), '沖縄': (26.21, 127.68)}\n",
    "                \n",
    "DATES = ['今日','明日']\n",
    "\n",
    "TYPES = ['天気','気温']\n"
   ]
  },
  {
   "cell_type": "code",
   "execution_count": 21,
   "metadata": {},
   "outputs": [],
   "source": [
    "\n",
    "current_weather_url = 'http://api.openweathermap.org/data/2.5/weather'\n",
    "forecast_url = 'http://api.openweathermap.org/data/2.5/forecast'\n",
    "appid = 'c92cd5cc8e296e57239e20d8e3148479' # 自身のAPPIDを入れてください\n",
    "\n",
    "def get_current_weather(lat,lon):\n",
    "# 天気情報を取得    \n",
    "    response = requests.get(\"{}?lat={}&lon={}&lang=ja&units=metric&APPID={}\".format(current_weather_url,lat,lon,appid))\n",
    "    return response.json()\n",
    "def get_tomorrow_weather(lat,lon):\n",
    "    # 今日の時間を取得\n",
    "    today = datetime.today()\n",
    "    # 明日の時間を取得\n",
    "    tomorrow = today + timedelta(days=1)\n",
    "    # 明日の正午の時間を取得\n",
    "    tomorrow_noon = datetime.combine(tomorrow, time(12,0))\n",
    "    # UNIX時間に変換\n",
    "    timestamp = tomorrow_noon.timestamp()\n",
    "    # 天気情報を取得\n",
    "    response = requests.get(\"{}?lat={}&lon={}&lang=ja&units=metric&APPID={}\".format(forecast_url,lat,lon,appid))\n",
    "    dic = response.json()\n",
    "    # 3時間おきの天気情報についてループ\n",
    "    for i in range(len(dic[\"list\"])):\n",
    "        # i番目の天気情報（UNIX時間）\n",
    "        dt = float(dic[\"list\"][i][\"dt\"])\n",
    "        # 明日の正午以降のデータになった時点でその天気情報を返す\n",
    "        if dt >= timestamp:\n",
    "            return dic[\"list\"][i]\n",
    "    return \"\"\n",
    "wakati = MeCab.Tagger(\"-Owakati \")\n",
    "def get_date(text):\n",
    "    for i in text:\n",
    "        if i in [\"今日\", \"明日\"]:\n",
    "            return i\n",
    "    return \"\"\n",
    "def get_place(text):\n",
    "    for pref in text:\n",
    "        if pref in prefs:\n",
    "            return pref\n",
    "    return \"\"\n",
    "def get_infokinds(text):\n",
    "    for i in text:\n",
    "        if i in [\"天気\", \"気温\"]:\n",
    "            return i"
   ]
  },
  {
   "cell_type": "code",
   "execution_count": 64,
   "metadata": {},
   "outputs": [
    {
     "name": "stdout",
     "output_type": "stream",
     "text": [
      "晴天\n",
      "9.48\n",
      "6.93\n",
      "厚い雲\n"
     ]
    }
   ],
   "source": [
    "# 取得情報確認\n",
    "cw = get_current_weather(latlondic[\"北海道\"][0], latlondic[\"北海道\"][1])\n",
    "print(cw[\"weather\"][0][\"description\"])\n",
    "\n",
    "tw = get_tomorrow_weather(43.06, 141.35)\n",
    "print(tw[\"main\"][\"temp\"])\n",
    "\n",
    "\n",
    "cw = get_current_weather(43.06, 141.35)\n",
    "print(cw[\"main\"][\"temp\"])\n",
    "\n",
    "tw = get_tomorrow_weather(43.06, 141.35)\n",
    "print(tw[\"weather\"][0][\"description\"])"
   ]
  },
  {
   "cell_type": "code",
   "execution_count": 65,
   "metadata": {},
   "outputs": [],
   "source": [
    "# html定義\n",
    "def html_info():\n",
    "    text = \"\"\"\n",
    "    <!DOCTYPE html>\n",
    "    <html>\n",
    "    <head>\n",
    "        <meta charset=\"UTF-8\">\n",
    "        <meta name=\"viewport\" content=\"width=device-width, initial-scale=1, maximum-scale=1\">\n",
    "        <title>チャットボット</title>\n",
    "    </head>\n",
    "    <body>\n",
    "    <script src=\"https://riversun.github.io/chatux/chatux.min.js\"></script>\n",
    "    <script>\n",
    "        const chatux = new ChatUx();\n",
    "        const initParam =\n",
    "            {\n",
    "                renderMode: 'auto',\n",
    "                api: {\n",
    "                    endpoint: 'http://localhost:5000/test',\n",
    "                    method: 'GET',\n",
    "                    dataType: 'jsonp',\n",
    "                },\n",
    "\n",
    "                bot: {\n",
    "                    //起動時に送信されるテキスト\n",
    "                    wakeupText: '天気情報',\n",
    "                    botPhoto: 'https://1.bp.blogspot.com/-tVeC6En4e_E/X96mhDTzJNI/AAAAAAABdBo/jlD_jvZvMuk3qUcNjA_XORrA4w3lhPkdQCNcBGAsYHQ/s1048/onepiece01_luffy.png',\n",
    "                    humanPhoto: null,\n",
    "                    widget: {\n",
    "                        sendLabel: '送信',\n",
    "                        placeHolder: '質問事項を入力してください。'\n",
    "                    }\n",
    "                },\n",
    "                window: {\n",
    "                    title: 'お問い合わせ',\n",
    "                    infoUrl: 'http://localhost:5000'\n",
    "                },\n",
    "            };\n",
    "        chatux.init(initParam);\n",
    "        chatux.start(true);\n",
    "    </script>\n",
    "    </body>\n",
    "    </html>\n",
    "    \"\"\"\n",
    "    return text"
   ]
  },
  {
   "cell_type": "code",
   "execution_count": 36,
   "metadata": {},
   "outputs": [],
   "source": [
    "from transitions import Machine\n",
    "class StateMachine(object):\n",
    "    #状態の定義\n",
    "    states = ['info',  'place','date', 'infokinds', 'out']\n",
    "\n",
    "    #初期化（ステートマシンの定義：とりうる状態の定義、初期状態の定義、各種遷移と紐付くアクションの定義）\n",
    "    def __init__(self):\n",
    "        self.machine = Machine(model=self, states=StateMachine.states, initial='info', auto_transitions=False)\n",
    "        self.machine.add_transition(trigger='session',  source='info',  dest='place', before='action_i2p')\n",
    "        self.machine.add_transition(trigger='next1', source='place', dest='date',    before='action_p2d')\n",
    "        self.machine.add_transition(trigger='next2', source='date',  dest='infokinds', before='action_d2i')\n",
    "        self.machine.add_transition(trigger='next3',    source='infokinds',    dest='place', after='action_i2o')\n",
    "\n",
    "        self.place = None\n",
    "        self.date = None\n",
    "        self.info = None\n",
    "\n",
    "    #以下、遷移時のアクション\n",
    "    def action_i2p(self):\n",
    "        #接続時のアクション\n",
    "        #初期化\n",
    "        self.machine = Machine(model=self, states=StateMachine.states, initial='info', auto_transitions=False)\n",
    "        self.place = None\n",
    "        self.date = None\n",
    "        self.info = None\n",
    "        return {'output' : [{'type' : 'text', 'value' : \"こちら天気情報案内システムです\"}, {'type' : 'text', 'value' : \"都道府県を入力してください\"}] }\n",
    "        \n",
    "    def action_p2d(self):\n",
    "        # アクション定義\n",
    "        return {'output' : [{'type' : 'text', 'value' : self.place + \"ですね\"}, {'type' : 'text', 'value' : \"今日か明日どちらですか\"}] }\n",
    "\n",
    "    def action_d2i(self):\n",
    "        #アクション定義\n",
    "        return {'output' : [{'type' : 'text', 'value' : self.date + \"ですね\"}, {'type' : 'text', 'value' : \"天気か気温どちらですか\"}] }\n",
    "\n",
    "    def action_i2o(self):\n",
    "        #発話終了後初期化\n",
    "        self.machine = Machine(model=self, states=StateMachine.states, initial='place', auto_transitions=False)\n",
    "        self.place = None\n",
    "        self.date = None\n",
    "        self.info = None\n",
    "        \n",
    "SM = StateMachine()"
   ]
  },
  {
   "cell_type": "code",
   "execution_count": 37,
   "metadata": {},
   "outputs": [
    {
     "name": "stdout",
     "output_type": "stream",
     "text": [
      " * Serving Flask app \"__main__\" (lazy loading)\n",
      " * Environment: production\n",
      "   WARNING: This is a development server. Do not use it in a production deployment.\n",
      "   Use a production WSGI server instead.\n",
      " * Debug mode: off\n"
     ]
    },
    {
     "name": "stderr",
     "output_type": "stream",
     "text": [
      " * Running on http://127.0.0.1:5000/ (Press CTRL+C to quit)\n",
      "127.0.0.1 - - [29/Mar/2022 11:00:11] \"\u001b[37mGET / HTTP/1.1\u001b[0m\" 200 -\n",
      "127.0.0.1 - - [29/Mar/2022 11:00:13] \"\u001b[37mGET /test?text=天気情報&callback=chatux_339cf488_154f_4b90_8557_90f5f3d43239 HTTP/1.1\u001b[0m\" 200 -\n"
     ]
    },
    {
     "name": "stdout",
     "output_type": "stream",
     "text": [
      "place\n"
     ]
    },
    {
     "name": "stderr",
     "output_type": "stream",
     "text": [
      "127.0.0.1 - - [29/Mar/2022 11:00:15] \"\u001b[37mGET /test?text=ｋ&callback=chatux_1d705885_3da9_4257_91a3_76c3608a2c47 HTTP/1.1\u001b[0m\" 200 -\n"
     ]
    },
    {
     "name": "stdout",
     "output_type": "stream",
     "text": [
      "text:\n",
      "place\n"
     ]
    },
    {
     "name": "stderr",
     "output_type": "stream",
     "text": [
      "127.0.0.1 - - [29/Mar/2022 11:00:18] \"\u001b[37mGET /test?text=ｋ&callback=chatux_8ff631c4_802b_4c8a_9341_24235993391a HTTP/1.1\u001b[0m\" 200 -\n"
     ]
    },
    {
     "name": "stdout",
     "output_type": "stream",
     "text": [
      "text:\n",
      "place\n"
     ]
    },
    {
     "name": "stderr",
     "output_type": "stream",
     "text": [
      "127.0.0.1 - - [29/Mar/2022 11:00:24] \"\u001b[37mGET /test?text=京都&callback=chatux_4b785db8_8e3b_4a7e_aa3f_6f2899ba5422 HTTP/1.1\u001b[0m\" 200 -\n"
     ]
    },
    {
     "name": "stdout",
     "output_type": "stream",
     "text": [
      "text:京都\n",
      "date\n"
     ]
    },
    {
     "name": "stderr",
     "output_type": "stream",
     "text": [
      "127.0.0.1 - - [29/Mar/2022 11:00:28] \"\u001b[37mGET /test?text=今日&callback=chatux_fd92047c_dd00_47f7_8d73_3a41d52f212c HTTP/1.1\u001b[0m\" 200 -\n"
     ]
    },
    {
     "name": "stdout",
     "output_type": "stream",
     "text": [
      "infokinds\n",
      "京都 今日 気温\n"
     ]
    },
    {
     "name": "stderr",
     "output_type": "stream",
     "text": [
      "127.0.0.1 - - [29/Mar/2022 11:00:31] \"\u001b[37mGET /test?text=気温&callback=chatux_14c86134_e6c4_4e34_9827_45a484962607 HTTP/1.1\u001b[0m\" 200 -\n",
      "127.0.0.1 - - [29/Mar/2022 11:00:39] \"\u001b[37mGET /test?text=愛知&callback=chatux_f240ce76_179f_45a9_81e7_0a6267e93b4d HTTP/1.1\u001b[0m\" 200 -\n"
     ]
    },
    {
     "name": "stdout",
     "output_type": "stream",
     "text": [
      "text:愛知\n",
      "date\n"
     ]
    },
    {
     "name": "stderr",
     "output_type": "stream",
     "text": [
      "127.0.0.1 - - [29/Mar/2022 11:00:46] \"\u001b[37mGET /test?text=昨日&callback=chatux_9d5bc81f_8865_449f_a4c3_bbfcf26c4273 HTTP/1.1\u001b[0m\" 200 -\n"
     ]
    },
    {
     "name": "stdout",
     "output_type": "stream",
     "text": [
      "date\n"
     ]
    },
    {
     "name": "stderr",
     "output_type": "stream",
     "text": [
      "127.0.0.1 - - [29/Mar/2022 11:00:51] \"\u001b[37mGET /test?text=今日&callback=chatux_570d6aa8_c5fd_42b8_bed6_58b4efee11a2 HTTP/1.1\u001b[0m\" 200 -\n"
     ]
    },
    {
     "name": "stdout",
     "output_type": "stream",
     "text": [
      "infokinds\n",
      "愛知 今日 気温\n"
     ]
    },
    {
     "name": "stderr",
     "output_type": "stream",
     "text": [
      "127.0.0.1 - - [29/Mar/2022 11:00:56] \"\u001b[37mGET /test?text=気温&callback=chatux_f39d5eb6_87b1_43d8_9152_72554983a3db HTTP/1.1\u001b[0m\" 200 -\n"
     ]
    }
   ],
   "source": [
    "import json\n",
    "from flask import Flask, request\n",
    "app = Flask(__name__)\n",
    "\n",
    "sm = StateMachine()\n",
    "\n",
    "@app.route(\"/\")\n",
    "def route():\n",
    "    return html_info()\n",
    "\n",
    "@app.route('/test')\n",
    "def get_request():\n",
    "    #リクエストからテキストを取得\n",
    "    value = request.args.get('text', '')\n",
    "    #callback取得\n",
    "    callback = request.args.get('callback', '')\n",
    "    #現状態取得\n",
    "    state = sm.state\n",
    "    dic = {}\n",
    "    #状態により分岐\n",
    "    if state == \"info\":\n",
    "        #セッション開始\n",
    "        dic = sm.action_i2p()\n",
    "        sm.session()\n",
    "    elif state == \"place\":\n",
    "        #都道府県名を探す\n",
    "        wakati_text = wakati.parse(value).split()\n",
    "        text = get_place(wakati_text)\n",
    "        if text != \"\":\n",
    "            sm.place = text\n",
    "            dic = sm.action_p2d()\n",
    "            # 状態を次に進める\n",
    "            sm.next1()\n",
    "        else:\n",
    "            #都道府県が見つからなかった場合もう一度尋ねる\n",
    "            dic = {'output' : [{'type' : 'text', 'value' : \"もう一度都道府県を入力してください\"}]}\n",
    "        print(sm.state)\n",
    "    elif state == \"date\":\n",
    "        # 日付を探す\n",
    "        wakati_text = wakati.parse(value).split()\n",
    "        text = get_date(wakati_text)\n",
    "        if text != \"\":\n",
    "            sm.date = text\n",
    "            dic = sm.action_d2i()\n",
    "            #状態を次に進める\n",
    "            sm.next2()\n",
    "        #日付が見つからなければも一度尋ねる\n",
    "        else:\n",
    "            dic = {'output' : [{'type' : 'text', 'value' : \"もう一度日付を入力してください\"}]}\n",
    "        print(sm.state)\n",
    "    elif state == \"infokinds\":\n",
    "        #情報種別を探す\n",
    "        wakati_text = wakati.parse(value).split()\n",
    "        text = get_infokinds(wakati_text)\n",
    "        if text == \"気温\":\n",
    "            sm.info = text\n",
    "        elif text == \"天気\":\n",
    "            sm.info = text\n",
    "        #情報種別が見つからなければもう一度尋ねる\n",
    "        else:\n",
    "            dic = {'output' : [{'type' : 'text', 'value' : \"もう一度天気か気温を入力してください\"}]}\n",
    "            contents = callback + '(' + json.dumps(dic) + ')'\n",
    "            return contents\n",
    "        # 以下情報種別までデータが設定されているので、天気情報を取得し、クライアントに表示する\n",
    "        place = sm.place\n",
    "        date = sm.date\n",
    "        info = sm.info    \n",
    "        # 緯度、経度設定\n",
    "        lat = latlondic[place][0]\n",
    "        lon = latlondic[place][1]\n",
    "        re = \"\"\n",
    "        if date == \"今日\":\n",
    "            gw = get_current_weather(lat, lon)\n",
    "        else :\n",
    "            gw = get_tomorrow_weather(lat, lon)\n",
    "        if info != \"気温\":\n",
    "            re = gw[\"weather\"][0][\"description\"]\n",
    "        else :\n",
    "            re = str(gw[\"main\"][\"temp\"]) + \"度\"\n",
    "        # 現状態を初期状態に戻す\n",
    "        sm.next3()\n",
    "        dic = {'output' : [{'type' : 'text', 'value' : str(re)}, {'type' : 'text', 'value' : \"都道府県を入力してください\"}]}\n",
    "\n",
    "    contents = callback + '(' + json.dumps(dic) + ')'\n",
    "    return contents\n",
    "\n",
    "app.run()"
   ]
  },
  {
   "cell_type": "code",
   "execution_count": null,
   "metadata": {},
   "outputs": [
    {
     "data": {
      "text/plain": [
       "'曇りがち'"
      ]
     },
     "execution_count": 18,
     "metadata": {},
     "output_type": "execute_result"
    }
   ],
   "source": [
    "lat = latlondic[sm.place][0]\n",
    "lon = latlondic[sm.place][1]\n",
    "gw = get_current_weather(lat, lon)\n",
    "gw[\"weather\"][0][\"description\"]"
   ]
  },
  {
   "cell_type": "code",
   "execution_count": null,
   "metadata": {},
   "outputs": [],
   "source": []
  }
 ],
 "metadata": {
  "interpreter": {
   "hash": "97ae724bfa85b9b34df7982b8bb8c7216f435b92902d749e4263f71162bea840"
  },
  "kernelspec": {
   "display_name": "Python 3.7.6 ('base')",
   "language": "python",
   "name": "python3"
  },
  "language_info": {
   "codemirror_mode": {
    "name": "ipython",
    "version": 3
   },
   "file_extension": ".py",
   "mimetype": "text/x-python",
   "name": "python",
   "nbconvert_exporter": "python",
   "pygments_lexer": "ipython3",
   "version": "3.7.6"
  },
  "orig_nbformat": 4
 },
 "nbformat": 4,
 "nbformat_minor": 2
}
