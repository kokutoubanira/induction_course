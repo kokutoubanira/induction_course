{
 "cells": [
  {
   "cell_type": "markdown",
   "metadata": {},
   "source": [
    "# Pythonを使用してチャットボットを作成する"
   ]
  },
  {
   "cell_type": "markdown",
   "metadata": {},
   "source": [
    "## AIチャットボットの仕組み\n",
    "チャットボットとは、リアルタイムで短文のやり取りを行うことを意味する「チャット」と、一定の作業を自動化するロボットを意味する「ボット」を合わせた名称で、チャットでの質問に自動で返答するプログラムやアプリケーションのことです。AIチャットボットは、AI（人工知能）を搭載したチャットボットのことであり、AIが人間の発する「あいまいな」言葉や文脈を解釈し、的確に意図を読み取り、複雑な会話でも精度の高い回答を自動応答できるのが特徴です。<br>\n",
    "近年、スマートフォンの普及や機械学習とディープラーニング技術の進歩により、チャットボットの実用性や利便性が高くなっています。Facebook Mesengerやslackなどのメッセージングプラットフォーム上でチャットボットを作成する為のAPIだけでなく、チャットボットを支えるAIやロジックを作成するためのプラットフォームも登場しています。これにより開発社や企業に知識や経験があまりなくても、独自のチャットボットを簡単に導入できるようようになっています。"
   ]
  },
  {
   "cell_type": "markdown",
   "metadata": {},
   "source": [
    "## アプリケーション\n",
    "チャットボットは、小売り企業やニュース、さらには医療分野など、さまざまな業界の業務に活用できます、チャットボットの幅広いアプリケーションについて簡単に解説します。多くのユースケースは、成熟してきていますが、中にはまだ初期段階の者もあります。ユースケースは次の通りです。\n",
    "### ショッピングとEコマース\n",
    "近年、チャットボットは注文や注文の変更、決済など、様々なEコマース業務に利用されています。様々な商品を推薦するボットはEコマース業界でも注目されています。各業界ではより自然なユーザー体験を実現するために、会話型の推薦システムの構築に力を入れています。\n",
    "### ニュースや近鉄の検索\n",
    "Eコマースと同様にチャットボットはニュースや近鉄の検索にも利用できます。ユーザーが会話形式で様々なニュアンスを指定して検索するとボットが関連記事を返してくれるのです。\n",
    "### カスタマーサービス\n",
    "カスタマーサービスもボットが多様されている分野です。苦情の受付FAQへの回答、ビジネス要件に基づいて事前に設定された会話の流れに疎って、問い合わせを案内するために使われています。\n",
    "### 医療\n",
    "健康や医療の分野では、FAQボットが大いに活躍します。これらのボットは患者が自分の症状に応じて関連情報を素早く取得するのに役立ちます。最近では、患者、とくに高齢者の患者に質問することで、健康状態に関する有用な情報を引き出すチャットボットの構築も注目されています。\n",
    "### 法律\n",
    "法律関連のアプリケーションでは、ボットはユーザーにFAQを提供するのに使用されます。また、関連する質問をするなど、より複雑な目的にも使用できます。"
   ]
  },
  {
   "cell_type": "markdown",
   "metadata": {},
   "source": [
    "## シンプルなFAQボット\n",
    "FAQボットは、一般的に検索ベースのシステムです。質問が与えられると、正しい答えを探してユーザーに提示します。基本的にユーザーは様々な方法で質問をして、解凍を得ることができます。<br>\n",
    "複雑な質問対して会話形式のインターフェイスを提供するのに有効です。"
   ]
  },
  {
   "cell_type": "markdown",
   "metadata": {},
   "source": [
    "## チャットボットの分類方法\n",
    "\n",
    "### FAQ型チャットボット\n",
    "FAQ型チャットボットは、顧客から受けた質問内容を理解し、データベースの中から適切な回答を返信するチャットボットです。<br>\n",
    "顧客はチャットへ質問を書き込むだけで、適切な回答を受け取ることができます。<bt>\n",
    "こういったFAQ型のチャットボットについては、顧客向けの対応だけでなく、社内FAQとして活用する活用事例も生まれています。\n",
    "###  処理代行型チャットボット\n",
    "処理代行型チャットボットは、顧客との会話の中で得た情報を元に、システム処理を代行してくれるチャットボットです。<br>\n",
    "たとえば、希望日時および対象者をチャットに書き込むと、対象者の都合を踏まえた候補日時をピックアップしてくれたり、日時確定の返信をすると参加者全員のスケジュールを確定できたりします。<br>\n",
    "このようにチャットボットが後処理業務を代行することで処理の自動化による生産性や品質の改善が期待されています。\n",
    "\n",
    "###  配信型チャットボット\n",
    "配信型チャットボットは、顧客と会話をおこなうことが目的ではなく、決められたタイミングで情報を配信するチャットボットです。<br>\n",
    "新商品情報などの配信サービスは、メールを活用することですでに多くの会社が実施していますので、「伝達媒体をメールからチャットに変えただけ」ですが、アラート機能などにも活用されています。\n",
    "\n",
    "### 雑談型チャットボット\n",
    "雑談型チャットボットは、顧客の疑問の解決ではなく、顧客との会話を成立させることを目的とするチャットボットです。<br>\n",
    "顧客とのゆるい会話を続けるようなケースでの利用が挙げられます。<br>\n",
    "雑談型は直接的な効果というよりは、ブランディングやロイヤリティの向上といった領域を中心に活用が期待されているチャットボットになります。"
   ]
  },
  {
   "cell_type": "markdown",
   "metadata": {},
   "source": [
    "## 構築方法による分類\n",
    "### 限られた応答しかできないFAQボット\n",
    "このタイプのチャットボットは決められた応答集合に紐づけられており、ユーザーのクエリを理解したうえで正しい応答を取得します。例えば、FAQボットを作る場合、ボットは質問を理解し、質問に対する決まった正解を取り出す必要が在ります。このタイプのボットでは、一般的にユーザーへの応答は、過去の応答に依存しないという特徴があります。\n",
    "### フローベースのボット\n",
    "フローベースの会話型ボットは、一般に敵に、応答の変動制という点で、FAQボットよりも複雑です。ユーザーは、会話の中で少しづつ自分の意見や要望を伝えて行くことができます。\n",
    "### オープンエンドボット\n",
    "オープンエンドボットは、主にエンターテインメントを目的としたボットで、ボットでユーザーと様々なトピックに就ていて会話することを想定しています。ボットは、会話の方向性や流れを保つ必要はありません。"
   ]
  },
  {
   "cell_type": "code",
   "execution_count": 5,
   "metadata": {},
   "outputs": [],
   "source": [
    "def html():\n",
    "    text = \"\"\"\n",
    "    <!DOCTYPE html>\n",
    "    <html>\n",
    "    <head>\n",
    "        <meta charset=\"UTF-8\">\n",
    "        <meta name=\"viewport\" content=\"width=device-width, initial-scale=1, maximum-scale=1\">\n",
    "        <title>チャットボット</title>\n",
    "    </head>\n",
    "    <body>\n",
    "    <script src=\"https://riversun.github.io/chatux/chatux.min.js\"></script>\n",
    "    <script>\n",
    "        const chatux = new ChatUx();\n",
    "        const initParam =\n",
    "            {\n",
    "                renderMode: 'auto',\n",
    "                api: {\n",
    "                    endpoint: 'http://localhost:5000/',\n",
    "                    method: 'GET',\n",
    "                    dataType: 'jsonp'\n",
    "                },\n",
    "                bot: {\n",
    "                    botPhoto: 'https://www.erestage.com/wp-content/uploads/2019/07/yukata-1-150x150.jpg',\n",
    "                    humanPhoto: null,\n",
    "                    widget: {\n",
    "                        sendLabel: '送信',\n",
    "                        placeHolder: '質問事項を入力してください。'\n",
    "                    }\n",
    "                },\n",
    "                window: {\n",
    "                    title: 'お問い合わせ',\n",
    "                    infoUrl: 'http://www.erestage.com/'\n",
    "                }\n",
    "            };\n",
    "        chatux.init(initParam);\n",
    "        chatux.start(true);\n",
    "    </script>\n",
    "    </body>\n",
    "    </html>\n",
    "    \"\"\"\n",
    "    return text"
   ]
  },
  {
   "cell_type": "code",
   "execution_count": 7,
   "metadata": {},
   "outputs": [
    {
     "name": "stdout",
     "output_type": "stream",
     "text": [
      " * Serving Flask app \"__main__\" (lazy loading)\n",
      " * Environment: production\n",
      "   WARNING: This is a development server. Do not use it in a production deployment.\n",
      "   Use a production WSGI server instead.\n",
      " * Debug mode: off\n"
     ]
    },
    {
     "name": "stderr",
     "output_type": "stream",
     "text": [
      " * Running on http://127.0.0.1:5000/ (Press CTRL+C to quit)\n"
     ]
    }
   ],
   "source": [
    "import json\n",
    "from flask import Flask, request\n",
    "app = Flask(__name__)\n",
    "\n",
    "@app.route(\"/\")\n",
    "def route():\n",
    "    return html()\n",
    "\n",
    "\n",
    "@app.route('/test')\n",
    "def get_request():\n",
    "    value = request.args.get('text', '')\n",
    "    callback = request.args.get('callback', '')\n",
    "    if (value.find('おはよう') != -1):\n",
    "        value = 'おはようございます。<br>ごきげんはいかがですか？'\n",
    "    if (value.find('元気') != -1):\n",
    "        value = '元気でよかったですね'\n",
    "    if (value.find('天気') != -1):\n",
    "        value = '今日の天気は晴れです。'\n",
    "    dic = {'output' : [{'type' : 'text', 'value' : value }] }\n",
    "    contents = callback + '(' + json.dumps(dic) + ')'\n",
    "    return contents\n",
    "\n",
    "app.run()"
   ]
  },
  {
   "cell_type": "code",
   "execution_count": null,
   "metadata": {},
   "outputs": [],
   "source": []
  }
 ],
 "metadata": {
  "interpreter": {
   "hash": "97ae724bfa85b9b34df7982b8bb8c7216f435b92902d749e4263f71162bea840"
  },
  "kernelspec": {
   "display_name": "Python 3.7.6 ('base')",
   "language": "python",
   "name": "python3"
  },
  "language_info": {
   "codemirror_mode": {
    "name": "ipython",
    "version": 3
   },
   "file_extension": ".py",
   "mimetype": "text/x-python",
   "name": "python",
   "nbconvert_exporter": "python",
   "pygments_lexer": "ipython3",
   "version": "3.7.6"
  },
  "orig_nbformat": 4
 },
 "nbformat": 4,
 "nbformat_minor": 2
}
