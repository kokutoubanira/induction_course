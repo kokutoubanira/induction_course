{
 "cells": [
  {
   "cell_type": "markdown",
   "metadata": {},
   "source": [
    "# 文字列の操作"
   ]
  },
  {
   "cell_type": "markdown",
   "metadata": {},
   "source": [
    "## 問題1　文字列の代入(format/f-strings)\n",
    "以下の文章の「〇〇」に対して.format()とf-stringsを使って代入しましょう。\n",
    "「私は〇〇です。〇〇出身です。」"
   ]
  },
  {
   "cell_type": "code",
   "execution_count": null,
   "metadata": {},
   "outputs": [],
   "source": []
  },
  {
   "cell_type": "markdown",
   "metadata": {},
   "source": [
    "出力:   \n",
    "'私はyamadaです。tokyo出身です。'"
   ]
  },
  {
   "cell_type": "markdown",
   "metadata": {},
   "source": [
    "## 問題2 エスケープ文字\n",
    "次の文字列を句読点で改行しましょう。\n",
    "\n",
    "「いつもの帰り道とは違うルートで帰ってみようかな。迷子にならないか心配だけど。」\n",
    "↓\n",
    "「いつもの帰り道とは違うルートで帰ってみようかな。\n",
    "迷子にならないか心配だけど。」"
   ]
  },
  {
   "cell_type": "markdown",
   "metadata": {},
   "source": []
  },
  {
   "cell_type": "markdown",
   "metadata": {},
   "source": [
    "出力:  \n",
    "いつもの帰り道とは違うルートで帰ってみようかな。<br>\n",
    "迷子にならないか心配だけど。"
   ]
  },
  {
   "cell_type": "markdown",
   "metadata": {},
   "source": [
    "## 問題3 書式化\n",
    "16.0という値を次の書式で表示しましょう。\n",
    "\n",
    "符号付き10進数\n",
    "符号付き16進数\n",
    "10進浮動小数点"
   ]
  },
  {
   "cell_type": "code",
   "execution_count": null,
   "metadata": {},
   "outputs": [],
   "source": []
  },
  {
   "cell_type": "markdown",
   "metadata": {},
   "source": [
    "出力:<br>\n",
    "10進数=16,16進数=10,10進浮動小数点=16.000000"
   ]
  },
  {
   "cell_type": "code",
   "execution_count": null,
   "metadata": {},
   "outputs": [],
   "source": []
  }
 ],
 "metadata": {
  "interpreter": {
   "hash": "31f2aee4e71d21fbe5cf8b01ff0e069b9275f58929596ceb00d14d90e3e16cd6"
  },
  "kernelspec": {
   "display_name": "Python 3.6.9 64-bit",
   "language": "python",
   "name": "python3"
  },
  "language_info": {
   "codemirror_mode": {
    "name": "ipython",
    "version": 3
   },
   "file_extension": ".py",
   "mimetype": "text/x-python",
   "name": "python",
   "nbconvert_exporter": "python",
   "pygments_lexer": "ipython3",
   "version": "3.6.9"
  },
  "orig_nbformat": 4
 },
 "nbformat": 4,
 "nbformat_minor": 2
}
