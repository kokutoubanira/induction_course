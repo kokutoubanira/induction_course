{
 "cells": [
  {
   "cell_type": "markdown",
   "metadata": {},
   "source": [
    "# 文字列の操作"
   ]
  },
  {
   "cell_type": "markdown",
   "metadata": {},
   "source": [
    "## 問題1　文字列の代入(format/f-strings)\n",
    "以下の文章の「〇〇」に対して.format()とf-stringsを使って代入しましょう。\n",
    "「私は〇〇です。〇〇出身です。」"
   ]
  },
  {
   "cell_type": "code",
   "execution_count": null,
   "metadata": {},
   "outputs": [],
   "source": []
  },
  {
   "cell_type": "markdown",
   "metadata": {},
   "source": [
    "出力:   \n",
    "'私はyamadaです。tokyo出身です。'"
   ]
  },
  {
   "cell_type": "markdown",
   "metadata": {},
   "source": [
    "## 問題2 エスケープ文字\n",
    "次の文字列を句読点で改行しましょう。\n",
    "\n",
    "「いつもの帰り道とは違うルートで帰ってみようかな。迷子にならないか心配だけど。」\n",
    "↓\n",
    "「いつもの帰り道とは違うルートで帰ってみようかな。\n",
    "迷子にならないか心配だけど。」"
   ]
  },
  {
   "cell_type": "markdown",
   "metadata": {},
   "source": []
  },
  {
   "cell_type": "markdown",
   "metadata": {},
   "source": [
    "出力:  \n",
    "いつもの帰り道とは違うルートで帰ってみようかな。<br>\n",
    "迷子にならないか心配だけど。"
   ]
  },
  {
   "cell_type": "markdown",
   "metadata": {},
   "source": [
    "## 問題3 書式化\n",
    "16.0という値を次の書式で表示しましょう。\n",
    "\n",
    "符号付き10進数\n",
    "符号付き16進数\n",
    "10進浮動小数点"
   ]
  },
  {
   "cell_type": "code",
   "execution_count": null,
   "metadata": {},
   "outputs": [],
   "source": []
  },
  {
   "cell_type": "markdown",
   "metadata": {},
   "source": [
    "出力:<br>\n",
    "10進数=16,16進数=10,10進浮動小数点=16.000000"
   ]
  },
  {
   "cell_type": "code",
   "execution_count": null,
   "metadata": {},
   "outputs": [],
   "source": []
  },
  {
   "cell_type": "markdown",
   "metadata": {},
   "source": [
    " ## 問題4 大文字・小文字への変換\n",
    " 以下の文字列を小文字→大文字、大文字→小文字への変換を行いましょう\n",
    "\n",
    "'hello'\n",
    "'WORLD'"
   ]
  },
  {
   "cell_type": "code",
   "execution_count": null,
   "metadata": {},
   "outputs": [],
   "source": []
  },
  {
   "cell_type": "markdown",
   "metadata": {},
   "source": [
    "## 問題5 分割\n",
    "\n",
    "こちらの文章を改行部分で分割しましょう。\n",
    "\n",
    "「こんにちは。\\n私はAIのロボットです。」"
   ]
  },
  {
   "cell_type": "code",
   "execution_count": null,
   "metadata": {},
   "outputs": [],
   "source": []
  },
  {
   "cell_type": "markdown",
   "metadata": {},
   "source": [
    "## 問題6 結合\n",
    "\n",
    "以下のリスト内に入っている文字列を結合して一つの文にしましょう。\n",
    "\n",
    "messages = ['こんにちは。', '私はAIのロボットです。']"
   ]
  },
  {
   "cell_type": "code",
   "execution_count": null,
   "metadata": {},
   "outputs": [],
   "source": []
  },
  {
   "cell_type": "markdown",
   "metadata": {},
   "source": [
    "## 問題7 空白除去\n",
    "\n",
    "文のはじめと最後にある空白を除去しましょう。\n",
    "\n",
    "「　いつも食べるここのケーキはとても美味しいね。　」\n",
    "\n",
    "※全角スペースです"
   ]
  },
  {
   "cell_type": "code",
   "execution_count": null,
   "metadata": {},
   "outputs": [],
   "source": []
  },
  {
   "cell_type": "markdown",
   "metadata": {},
   "source": [
    "## 問題8 置換\n",
    "\n",
    "以下の文の「晴れ」を「雨」に置換してください。\n",
    "\n",
    "「今日は晴れですね。」"
   ]
  },
  {
   "cell_type": "code",
   "execution_count": null,
   "metadata": {},
   "outputs": [],
   "source": []
  },
  {
   "cell_type": "markdown",
   "metadata": {},
   "source": [
    "## 問題9 文字列検索\n",
    "\n",
    "以下のフレーズの中から「夜空」を検索し、その位置を出力しましょう。\n",
    "\n",
    "「今日はとても夜空が綺麗だ。」"
   ]
  },
  {
   "cell_type": "markdown",
   "metadata": {},
   "source": []
  },
  {
   "cell_type": "markdown",
   "metadata": {},
   "source": [
    "## 問題10 型変換\n",
    "\n",
    "以下のデータ型を文字列型に変換しましょう。\n",
    "\n",
    "int:x = 1\n",
    "\n",
    "float: x = 1.52\n",
    "\n",
    "list: x = [1, 2, 3]\n",
    "\n",
    "dict: x = dict(name='john', birth='US')"
   ]
  },
  {
   "cell_type": "code",
   "execution_count": null,
   "metadata": {},
   "outputs": [],
   "source": []
  },
  {
   "cell_type": "markdown",
   "metadata": {},
   "source": [
    "## 問題11 包含関係\n",
    "\n",
    "以下の文字列Aが文字列Bに含まれているか確認しましょう。\n",
    "\n",
    "A: 'sba', B: 'gasba'\n",
    "A: 'xdh', B: 'orweit'"
   ]
  },
  {
   "cell_type": "code",
   "execution_count": null,
   "metadata": {},
   "outputs": [],
   "source": []
  },
  {
   "cell_type": "markdown",
   "metadata": {},
   "source": [
    "# 制御構文(if文)"
   ]
  },
  {
   "cell_type": "markdown",
   "metadata": {},
   "source": [
    "## 問題12 if文を使って条件分岐\n",
    "if文を使って以下の処理を実装してください。\n",
    "\n",
    "    int型の変数: num\n",
    "    numが以下の条件の時、コロン右側の文字列を出力する\n",
    "        numが正の値の場合：　正の値です\n",
    "        numが0の場合：0です\n",
    "        numが負の値の場合: 負の値です\n"
   ]
  },
  {
   "cell_type": "code",
   "execution_count": null,
   "metadata": {},
   "outputs": [],
   "source": []
  },
  {
   "cell_type": "markdown",
   "metadata": {},
   "source": [
    "## 問題13 論理演算子を使って複数条件の指定\n",
    "以下の条件分岐に対応する実装を行ってください。\n",
    "\n",
    "    aは整数\n",
    "    aが0以上10未満かつ偶数: 一桁の偶数です\n",
    "    aが0未満かつ奇数：負の奇数です\n",
    "    それ以外: 整数です\n"
   ]
  },
  {
   "cell_type": "code",
   "execution_count": null,
   "metadata": {},
   "outputs": [],
   "source": []
  },
  {
   "cell_type": "markdown",
   "metadata": {},
   "source": [
    "# 制御構文(for文)"
   ]
  },
  {
   "cell_type": "markdown",
   "metadata": {},
   "source": [
    "## 問題14 リストから順に表示\n",
    "\n",
    "    リスト型の変数names(['John', 'Kevin', 'Louis'])から順に名前を出力しましょう。\n"
   ]
  },
  {
   "cell_type": "code",
   "execution_count": null,
   "metadata": {},
   "outputs": [],
   "source": []
  },
  {
   "cell_type": "markdown",
   "metadata": {},
   "source": [
    "## 問題15 range関数を使う\n",
    "\n",
    "    range関数を用いて0~9を出力しましょう。\n"
   ]
  },
  {
   "cell_type": "code",
   "execution_count": null,
   "metadata": {},
   "outputs": [],
   "source": []
  },
  {
   "cell_type": "markdown",
   "metadata": {},
   "source": [
    "## 問題16 ループの途中で特別な処理\n",
    "\n",
    "    問題15の処理に追加でi=3のみ「これは3です。」と出力するよう実装しましょう。\n"
   ]
  },
  {
   "cell_type": "code",
   "execution_count": null,
   "metadata": {},
   "outputs": [],
   "source": []
  },
  {
   "cell_type": "markdown",
   "metadata": {},
   "source": [
    "## 問題17 複数のリストを同時に処理\n",
    "\n",
    "    2つの変数(lasts=['加藤', '佐藤', '田中'], firsts=['雄一', '拓也', '太郎'])を用意\n",
    "    zip関数を用いて2つのリストから姓名を同時に出力しましょう\n"
   ]
  },
  {
   "cell_type": "code",
   "execution_count": null,
   "metadata": {},
   "outputs": [],
   "source": []
  },
  {
   "cell_type": "markdown",
   "metadata": {},
   "source": [
    "## 問題18 リストと同時にインデックス情報の取得\n",
    "\n",
    "    変数(lasts=['加藤', '佐藤', '田中'])を用意\n",
    "    enumerate関数を使って苗字とそのインデックスを取得しましょう\n",
    "    「xx番のyyです。」と出力しましょう\n"
   ]
  },
  {
   "cell_type": "code",
   "execution_count": null,
   "metadata": {},
   "outputs": [],
   "source": []
  },
  {
   "cell_type": "markdown",
   "metadata": {},
   "source": [
    "## 問題19 内包表記\n",
    "\n",
    "    以下の2つのパターンで0から9未満となる2の倍数が入ったリスト([0, 2, 4, 6, 8])を作成しましょう。\n",
    "        空のリストnumsを予め用意しforループ内で.append()関数を用いて要素を追加する\n",
    "        1行で同様のリストnumbersを作成する\n"
   ]
  },
  {
   "cell_type": "code",
   "execution_count": null,
   "metadata": {},
   "outputs": [],
   "source": []
  },
  {
   "cell_type": "markdown",
   "metadata": {},
   "source": [
    "## 例外処理\n",
    "\n",
    "### 問題20 0で割ったときにエラーと出力\n",
    "\n",
    "    10をある数字numで割った時の結果を出力しましょう(try節)\n",
    "    0で割った場合(割れない)にエラーと出力しましょう(except節)\n"
   ]
  },
  {
   "cell_type": "code",
   "execution_count": null,
   "metadata": {},
   "outputs": [],
   "source": []
  },
  {
   "cell_type": "markdown",
   "metadata": {},
   "source": [
    "### 問題21 ZeroDivisionErrorの呼び出し\n",
    "\n",
    "    10をある数字numで割った時の結果を出力しましょう(try節)\n",
    "    0で割った場合(割れない)にZeroDivisionErrorでエラーを出力しましょう(except節)\n"
   ]
  },
  {
   "cell_type": "code",
   "execution_count": null,
   "metadata": {},
   "outputs": [],
   "source": []
  },
  {
   "cell_type": "markdown",
   "metadata": {},
   "source": [
    "### 問題22 通常終了時に行う処理\n",
    "\n",
    "先ほどのdivide()関数で例外処理が発生しなかった場合に「正常に終了しました。」と表示されるよう(else節)にしましょう。"
   ]
  },
  {
   "cell_type": "code",
   "execution_count": null,
   "metadata": {},
   "outputs": [],
   "source": []
  },
  {
   "cell_type": "markdown",
   "metadata": {},
   "source": [
    "### 問題23 例外も含めた終了時に行う処理\n",
    "\n",
    "先ほどのdivide()関数で例外処理の発生した有無に限らず「処理が終了しました。」と表示されるよう(finally節)にしましょう。"
   ]
  },
  {
   "cell_type": "code",
   "execution_count": null,
   "metadata": {},
   "outputs": [],
   "source": []
  },
  {
   "cell_type": "markdown",
   "metadata": {},
   "source": [
    "### 問題24 例外をスルーする\n",
    "\n",
    "こちらのdivide()関数でTypeErrorの例外処理の発生した場合スルーするようにしましょう。"
   ]
  },
  {
   "cell_type": "code",
   "execution_count": null,
   "metadata": {},
   "outputs": [],
   "source": []
  },
  {
   "cell_type": "markdown",
   "metadata": {},
   "source": [
    "## PythonでOSを操作\n",
    "\n",
    "### 問題25 全ファイルの情報取得\n",
    "\n",
    "カレントディレクトリ内の全てのファイル情報を取得しましょう。"
   ]
  },
  {
   "cell_type": "code",
   "execution_count": null,
   "metadata": {},
   "outputs": [],
   "source": []
  },
  {
   "cell_type": "markdown",
   "metadata": {},
   "source": [
    "### 問題26 ファイルの情報取得\n",
    "\n",
    "カレントディレクトリ内の情報を取得しましょう。"
   ]
  },
  {
   "cell_type": "code",
   "execution_count": null,
   "metadata": {},
   "outputs": [],
   "source": []
  },
  {
   "cell_type": "markdown",
   "metadata": {},
   "source": [
    "### 問題27 絶対パスを含んだファイル名の取得\n",
    "\n",
    "問題25で取得したファイルの絶対パスを出力しましょう。"
   ]
  },
  {
   "cell_type": "code",
   "execution_count": null,
   "metadata": {},
   "outputs": [],
   "source": []
  },
  {
   "cell_type": "markdown",
   "metadata": {},
   "source": [
    "### 問題28 ディレクトリの作成\n",
    "\n",
    "カレントディレクトリにtestディレクトリを作成しましょう。"
   ]
  },
  {
   "cell_type": "code",
   "execution_count": null,
   "metadata": {},
   "outputs": [],
   "source": []
  },
  {
   "cell_type": "markdown",
   "metadata": {},
   "source": [
    "### 問題29 ディレクトリの名前変更\n",
    "\n",
    "カレントディレクトリにあるtestフォルダの名前を自分の名前に変更しましょう。"
   ]
  },
  {
   "cell_type": "code",
   "execution_count": null,
   "metadata": {},
   "outputs": [],
   "source": []
  },
  {
   "cell_type": "markdown",
   "metadata": {},
   "source": [
    "### 問題30 Unixコマンド\n",
    "\n",
    "os.system()でUnixコマンドを使ってみましょう"
   ]
  },
  {
   "cell_type": "markdown",
   "metadata": {},
   "source": []
  }
 ],
 "metadata": {
  "interpreter": {
   "hash": "31f2aee4e71d21fbe5cf8b01ff0e069b9275f58929596ceb00d14d90e3e16cd6"
  },
  "kernelspec": {
   "display_name": "Python 3.6.9 64-bit",
   "language": "python",
   "name": "python3"
  },
  "language_info": {
   "codemirror_mode": {
    "name": "ipython",
    "version": 3
   },
   "file_extension": ".py",
   "mimetype": "text/x-python",
   "name": "python",
   "nbconvert_exporter": "python",
   "pygments_lexer": "ipython3",
   "version": "3.6.9"
  },
  "orig_nbformat": 4
 },
 "nbformat": 4,
 "nbformat_minor": 2
}
