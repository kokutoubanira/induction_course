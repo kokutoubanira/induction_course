{
 "cells": [
  {
   "cell_type": "markdown",
   "id": "dc102d03-12ec-42fc-96e9-0b06fabfa064",
   "metadata": {},
   "source": [
    "# pytorch "
   ]
  },
  {
   "cell_type": "markdown",
   "id": "f8b4a4c9-375a-4d7d-875b-10759e6cd8ec",
   "metadata": {},
   "source": [
    "|　フレームワーク | 主な特徴 |\n",
    "|------------| ----------- |\n",
    "|TensorFlow, Keras | 産業向け |\n",
    "| PyTorch, Chainer | 研究向け（カスタマイズ性が高い） | "
   ]
  },
  {
   "cell_type": "markdown",
   "id": "ed597bf2-0630-42b7-a5d2-06addc733e6f",
   "metadata": {},
   "source": [
    "## PyTorchの構成\n",
    "\n",
    "| 構成内容 | 説明 |\n",
    "|---------|-----|\n",
    "|torch | メインのネームスペースでTensorや様々な数学関数がこのパッケージに含まれる。NumPyの構造を模している|\n",
    "| torch.autograd | 自動微分のための関数が含まれる。自動微分のon/offを制御するコンテキストマネージャのenable_grad/no_gradや独自の微分可能関数を定義する際に使用する基底クラスであるFunctionなどが含まれる | \n",
    "| torch.nn | ニューラルネットワークを構築するための様々なデータ構造やレイヤーが定義されている。例えばConvolutionやLSTM、ReLUなどの活性化関数やMSELossなどの損失関数も含まれる |\n",
    "| torch.optim | 確率的勾配降下（SGD）を中心としたパラメータ最適化アルゴリズムが実装されている | \n",
    "| torch.utils.data | SGDの繰り返し計算を回す際のミニバッチを作るためのユーティリティ関数が含まれている |\n",
    "| torch.onnx | \tONNX(Open Neural Network Exchange)1の形式でモデルをエクスポートするために使用する。 | "
   ]
  },
  {
   "cell_type": "markdown",
   "id": "eb96c26c-eeef-4f59-88d4-44eba4bb004c",
   "metadata": {},
   "source": [
    "## データの操作\n",
    "PyTorch には、データを操作するための 2 つのプリミティブがあります: torch.utils.data.DataLoaderとtorch.utils.data.Dataset. Datasetサンプルとそれに対応するラベルを格納しDataLoader、 iterable で をラップしDatasetを作成します。"
   ]
  },
  {
   "cell_type": "code",
   "execution_count": null,
   "id": "dc0a30bb-a6e5-4672-b992-f81b7cbbe0ca",
   "metadata": {
    "tags": []
   },
   "outputs": [],
   "source": [
    "import torch\n",
    "from torch import nn\n",
    "from torch.utils.data import DataLoader\n",
    "from torchvision import datasets\n",
    "from torchvision.transforms import ToTensor"
   ]
  },
  {
   "cell_type": "markdown",
   "id": "03ace0f8-27f3-496b-8d2d-a8d1035bfc82",
   "metadata": {},
   "source": [
    "PyTorch は、 TorchText、 TorchVision、TorchAudioなどのドメイン固有のライブラリを提供し、そのすべてにデータセットが含まれています。\n",
    "今回はTorchVision データセットを使用します。\n",
    "\n",
    "このtorchvision.datasetsモジュールにはDataset、CIFAR、COCO などの多くの実世界のビジョン データのオブジェクトが含まれています。今回はFashionMNIST データセットを使用します。\n",
    "すべての TorchVisionDatasetには 2 つの引数が含まれています"
   ]
  },
  {
   "cell_type": "code",
   "execution_count": null,
   "id": "37098a1a-ea8a-45d9-9502-ff74805c2809",
   "metadata": {},
   "outputs": [],
   "source": [
    "# Download training data from open datasets.\n",
    "training_data = datasets.FashionMNIST(\n",
    "    root=\"data\",\n",
    "    train=True,\n",
    "    download=True,\n",
    "    transform=ToTensor(),\n",
    ")\n",
    "\n",
    "# Download test data from open datasets.\n",
    "test_data = datasets.FashionMNIST(\n",
    "    root=\"data\",\n",
    "    train=False,\n",
    "    download=True,\n",
    "    transform=ToTensor(),\n",
    ")"
   ]
  },
  {
   "cell_type": "markdown",
   "id": "88c9ce7f-f0a2-4aae-a955-4ec7b58d67f8",
   "metadata": {},
   "source": [
    "Datasetを引数として DataLoaderに渡します。\n",
    "これは、データセットを iterable でラップし、自動バッチ処理、サンプリング、シャッフル、マルチプロセス データ ロードをサポートします。ここでは、64 のバッチ サイズを定義します。\n",
    "つまり、データローダー iterable の各要素は、64 個の機能とラベルのバッチを返します。"
   ]
  },
  {
   "cell_type": "code",
   "execution_count": null,
   "id": "caa7ce7f-62c3-4223-9e8b-e6d87ec6117a",
   "metadata": {},
   "outputs": [],
   "source": [
    "batch_size = 64\n",
    "\n",
    "# Create data loaders.\n",
    "train_dataloader = DataLoader(training_data, batch_size=batch_size)\n",
    "test_dataloader = DataLoader(test_data, batch_size=batch_size)\n",
    "\n",
    "for X, y in test_dataloader:\n",
    "    print(f\"Shape of X [N, C, H, W]: {X.shape}\")\n",
    "    print(f\"Shape of y: {y.shape} {y.dtype}\")\n",
    "    break"
   ]
  },
  {
   "attachments": {},
   "cell_type": "markdown",
   "id": "545b998c",
   "metadata": {},
   "source": [
    "PyTorch のデータのロード について更に読んでください。"
   ]
  },
  {
   "attachments": {},
   "cell_type": "markdown",
   "id": "5613c06b",
   "metadata": {},
   "source": [
    "## モデルを作成する"
   ]
  },
  {
   "attachments": {},
   "cell_type": "markdown",
   "id": "860720a5",
   "metadata": {},
   "source": [
    "PyTorch でニューラルネットワークを定義するため、nn.Module から継承したクラスを作成します。__init__ 関数でネットワーク層を定義して forward 関数でデータがどのようにネットワークを通り抜けるか指定します。ニューラルネットワークの演算を高速化するためには、利用可能であればそれを GPU に移します。"
   ]
  },
  {
   "cell_type": "code",
   "execution_count": null,
   "id": "2af33375-ab87-4fb8-8943-fb9b89d7736c",
   "metadata": {},
   "outputs": [],
   "source": [
    "# Get cpu or gpu device for training.\n",
    "device = \"cuda\" if torch.cuda.is_available() else \"mps\" if torch.backends.mps.is_available() else \"cpu\"\n",
    "print(f\"Using {device} device\")\n",
    "\n",
    "# Define model\n",
    "class NeuralNetwork(nn.Module):\n",
    "    def __init__(self):\n",
    "        super().__init__()\n",
    "        self.flatten = nn.Flatten()\n",
    "        self.linear_relu_stack = nn.Sequential(\n",
    "            nn.Linear(28*28, 512),\n",
    "            nn.ReLU(),\n",
    "            nn.Linear(512, 512),\n",
    "            nn.ReLU(),\n",
    "            nn.Linear(512, 10)\n",
    "        )\n",
    "\n",
    "    def forward(self, x):\n",
    "        x = self.flatten(x)\n",
    "        logits = self.linear_relu_stack(x)\n",
    "        return logits\n",
    "\n",
    "model = NeuralNetwork().to(device)\n",
    "print(model)"
   ]
  },
  {
   "attachments": {},
   "cell_type": "markdown",
   "id": "a440d239",
   "metadata": {},
   "source": [
    "## モデル・パラメータの最適化\n",
    "モデルを訓練するためには、損失関数と optimizer を必要とします。"
   ]
  },
  {
   "cell_type": "code",
   "execution_count": null,
   "id": "02616dad",
   "metadata": {},
   "outputs": [],
   "source": [
    "loss_fn = nn.CrossEntropyLoss()\n",
    "optimizer = torch.optim.SGD(model.parameters(), lr=1e-3)"
   ]
  },
  {
   "attachments": {},
   "cell_type": "markdown",
   "id": "0b1abdde",
   "metadata": {},
   "source": [
    "単一訓練ループ内で、モデルは訓練データセット (バッチでそれに供給されます) 上で予測を行ない、モデルのパラメータを調整するために予測誤差を逆伝播します。"
   ]
  },
  {
   "cell_type": "code",
   "execution_count": null,
   "id": "aa817add",
   "metadata": {},
   "outputs": [],
   "source": [
    "def train(dataloader, model, loss_fn, optimizer):\n",
    "    size = len(dataloader.dataset)\n",
    "    model.train()\n",
    "    for batch, (X, y) in enumerate(dataloader):\n",
    "        X, y = X.to(device), y.to(device)\n",
    "\n",
    "        # Compute prediction error\n",
    "        pred = model(X)\n",
    "        loss = loss_fn(pred, y)\n",
    "\n",
    "        # Backpropagation\n",
    "        optimizer.zero_grad()\n",
    "        loss.backward()\n",
    "        optimizer.step()\n",
    "\n",
    "        if batch % 100 == 0:\n",
    "            loss, current = loss.item(), (batch + 1) * len(X)\n",
    "            print(f\"loss: {loss:>7f}  [{current:>5d}/{size:>5d}]\")"
   ]
  },
  {
   "attachments": {},
   "cell_type": "markdown",
   "id": "23ad5749",
   "metadata": {},
   "source": [
    "モデルが学習していることを確認するためにテスト・データセットに対してそのパフォーマンスも確認します。"
   ]
  },
  {
   "cell_type": "code",
   "execution_count": null,
   "id": "0eaf5c21",
   "metadata": {},
   "outputs": [],
   "source": [
    "def test(dataloader, model, loss_fn):\n",
    "    size = len(dataloader.dataset)\n",
    "    num_batches = len(dataloader)\n",
    "    model.eval()\n",
    "    test_loss, correct = 0, 0\n",
    "    with torch.no_grad():\n",
    "        for X, y in dataloader:\n",
    "            X, y = X.to(device), y.to(device)\n",
    "            pred = model(X)\n",
    "            test_loss += loss_fn(pred, y).item()\n",
    "            correct += (pred.argmax(1) == y).type(torch.float).sum().item()\n",
    "    test_loss /= num_batches\n",
    "    correct /= size\n",
    "    print(f\"Test Error: \\n Accuracy: {(100*correct):>0.1f}%, Avg loss: {test_loss:>8f} \\n\")"
   ]
  },
  {
   "attachments": {},
   "cell_type": "markdown",
   "id": "edb58157",
   "metadata": {},
   "source": [
    "訓練プロセスは幾つかの反復 (エポック) に渡り実行されます。各エポックの間に、モデルはより良い予測を行なうためにパラメータを学習します。各エポックでモデルの精度と損失をプリントします ; 総てのエポックで精度が増加して損失が減少することを見たいです。"
   ]
  },
  {
   "cell_type": "code",
   "execution_count": null,
   "id": "e710cb05",
   "metadata": {},
   "outputs": [],
   "source": [
    "epochs = 5\n",
    "for t in range(epochs):\n",
    "    print(f\"Epoch {t+1}\\n-------------------------------\")\n",
    "    train(train_dataloader, model, loss_fn, optimizer)\n",
    "    test(test_dataloader, model, loss_fn)\n",
    "print(\"Done!\")"
   ]
  },
  {
   "attachments": {},
   "cell_type": "markdown",
   "id": "af734191",
   "metadata": {},
   "source": [
    "## モデルをセーブする\n",
    "モデルをセーブする一般的な方法は (モデルパラメータを含む) 内部状態辞書をシリアライズすることです。"
   ]
  },
  {
   "cell_type": "code",
   "execution_count": null,
   "id": "eb0f86b7",
   "metadata": {},
   "outputs": [],
   "source": [
    "torch.save(model.state_dict(), \"model.pth\")\n",
    "print(\"Saved PyTorch Model State to model.pth\")"
   ]
  },
  {
   "attachments": {},
   "cell_type": "markdown",
   "id": "e6845cc7",
   "metadata": {},
   "source": [
    "## モデルをロードする\n",
    "モデルをロードするためのプロセスはモデル構造の再作成と状態辞書のそれへのロードを含みます。"
   ]
  },
  {
   "cell_type": "code",
   "execution_count": null,
   "id": "e633d330",
   "metadata": {},
   "outputs": [],
   "source": [
    "model = NeuralNetwork()\n",
    "model.load_state_dict(torch.load(\"model.pth\"))"
   ]
  },
  {
   "attachments": {},
   "cell_type": "markdown",
   "id": "45b14735",
   "metadata": {},
   "source": [
    "このモデルは今では予測を行なうために利用できます。"
   ]
  },
  {
   "cell_type": "code",
   "execution_count": null,
   "id": "3fbfce2c",
   "metadata": {},
   "outputs": [],
   "source": [
    "classes = [\n",
    "    \"T-shirt/top\",\n",
    "    \"Trouser\",\n",
    "    \"Pullover\",\n",
    "    \"Dress\",\n",
    "    \"Coat\",\n",
    "    \"Sandal\",\n",
    "    \"Shirt\",\n",
    "    \"Sneaker\",\n",
    "    \"Bag\",\n",
    "    \"Ankle boot\",\n",
    "]\n",
    "\n",
    "model.eval()\n",
    "x, y = test_data[0][0], test_data[0][1]\n",
    "with torch.no_grad():\n",
    "    pred = model(x)\n",
    "    predicted, actual = classes[pred[0].argmax(0)], classes[y]\n",
    "    print(f'Predicted: \"{predicted}\", Actual: \"{actual}\"')\n"
   ]
  },
  {
   "cell_type": "markdown",
   "id": "d299d87e",
   "metadata": {},
   "source": []
  }
 ],
 "metadata": {
  "kernelspec": {
   "display_name": "Python 3 (ipykernel)",
   "language": "python",
   "name": "python3"
  },
  "language_info": {
   "codemirror_mode": {
    "name": "ipython",
    "version": 3
   },
   "file_extension": ".py",
   "mimetype": "text/x-python",
   "name": "python",
   "nbconvert_exporter": "python",
   "pygments_lexer": "ipython3",
   "version": "3.10.6"
  }
 },
 "nbformat": 4,
 "nbformat_minor": 5
}
