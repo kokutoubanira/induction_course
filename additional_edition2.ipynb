{
 "cells": [
  {
   "cell_type": "markdown",
   "id": "dc102d03-12ec-42fc-96e9-0b06fabfa064",
   "metadata": {},
   "source": [
    "# pytorch "
   ]
  },
  {
   "cell_type": "markdown",
   "id": "f8b4a4c9-375a-4d7d-875b-10759e6cd8ec",
   "metadata": {},
   "source": [
    "|　フレームワーク | 主な特徴 |\n",
    "|------------| ----------- |\n",
    "|TensorFlow, Keras | 産業向け |\n",
    "| PyTorch, Chainer | 研究向け（カスタマイズ性が高い） | "
   ]
  },
  {
   "cell_type": "markdown",
   "id": "ed597bf2-0630-42b7-a5d2-06addc733e6f",
   "metadata": {},
   "source": [
    "## PyTorchの構成\n",
    "\n",
    "| 構成内容 | 説明 |\n",
    "|---------|-----|\n",
    "|torch | メインのネームスペースでTensorや様々な数学関数がこのパッケージに含まれる。NumPyの構造を模している|\n",
    "| torch.autograd | 自動微分のための関数が含まれる。自動微分のon/offを制御するコンテキストマネージャのenable_grad/no_gradや独自の微分可能関数を定義する際に使用する基底クラスであるFunctionなどが含まれる | \n",
    "| torch.nn | ニューラルネットワークを構築するための様々なデータ構造やレイヤーが定義されている。例えばConvolutionやLSTM、ReLUなどの活性化関数やMSELossなどの損失関数も含まれる |\n",
    "| torch.optim | 確率的勾配降下（SGD）を中心としたパラメータ最適化アルゴリズムが実装されている | \n",
    "| torch.utils.data | SGDの繰り返し計算を回す際のミニバッチを作るためのユーティリティ関数が含まれている |\n",
    "| torch.onnx | \tONNX(Open Neural Network Exchange)1の形式でモデルをエクスポートするために使用する。 | "
   ]
  },
  {
   "cell_type": "markdown",
   "id": "eb96c26c-eeef-4f59-88d4-44eba4bb004c",
   "metadata": {},
   "source": [
    "## データの操作\n",
    "PyTorch には、データを操作するための 2 つのプリミティブがあります: torch.utils.data.DataLoaderとtorch.utils.data.Dataset. Datasetサンプルとそれに対応するラベルを格納しDataLoader、 iterable で をラップしDatasetを作成します。"
   ]
  },
  {
   "cell_type": "code",
   "execution_count": null,
   "id": "dc0a30bb-a6e5-4672-b992-f81b7cbbe0ca",
   "metadata": {
    "tags": []
   },
   "outputs": [],
   "source": [
    "import torch\n",
    "from torch import nn\n",
    "from torch.utils.data import DataLoader\n",
    "from torchvision import datasets\n",
    "from torchvision.transforms import ToTensor"
   ]
  },
  {
   "cell_type": "markdown",
   "id": "03ace0f8-27f3-496b-8d2d-a8d1035bfc82",
   "metadata": {},
   "source": [
    "PyTorch は、 TorchText、 TorchVision、TorchAudioなどのドメイン固有のライブラリを提供し、そのすべてにデータセットが含まれています。\n",
    "今回はTorchVision データセットを使用します。\n",
    "\n",
    "このtorchvision.datasetsモジュールにはDataset、CIFAR、COCO などの多くの実世界のビジョン データのオブジェクトが含まれています。今回はFashionMNIST データセットを使用します。\n",
    "すべての TorchVisionDatasetには 2 つの引数が含まれています"
   ]
  },
  {
   "cell_type": "code",
   "execution_count": null,
   "id": "37098a1a-ea8a-45d9-9502-ff74805c2809",
   "metadata": {},
   "outputs": [],
   "source": [
    "# Download training data from open datasets.\n",
    "training_data = datasets.FashionMNIST(\n",
    "    root=\"data\",\n",
    "    train=True,\n",
    "    download=True,\n",
    "    transform=ToTensor(),\n",
    ")\n",
    "\n",
    "# Download test data from open datasets.\n",
    "test_data = datasets.FashionMNIST(\n",
    "    root=\"data\",\n",
    "    train=False,\n",
    "    download=True,\n",
    "    transform=ToTensor(),\n",
    ")"
   ]
  },
  {
   "cell_type": "markdown",
   "id": "88c9ce7f-f0a2-4aae-a955-4ec7b58d67f8",
   "metadata": {},
   "source": [
    "Datasetを引数として DataLoaderに渡します。\n",
    "これは、データセットを iterable でラップし、自動バッチ処理、サンプリング、シャッフル、マルチプロセス データ ロードをサポートします。ここでは、64 のバッチ サイズを定義します。\n",
    "つまり、データローダー iterable の各要素は、64 個の機能とラベルのバッチを返します。"
   ]
  },
  {
   "cell_type": "code",
   "execution_count": null,
   "id": "caa7ce7f-62c3-4223-9e8b-e6d87ec6117a",
   "metadata": {},
   "outputs": [],
   "source": [
    "batch_size = 64\n",
    "\n",
    "# Create data loaders.\n",
    "train_dataloader = DataLoader(training_data, batch_size=batch_size)\n",
    "test_dataloader = DataLoader(test_data, batch_size=batch_size)\n",
    "\n",
    "for X, y in test_dataloader:\n",
    "    print(f\"Shape of X [N, C, H, W]: {X.shape}\")\n",
    "    print(f\"Shape of y: {y.shape} {y.dtype}\")\n",
    "    break"
   ]
  },
  {
   "cell_type": "code",
   "execution_count": null,
   "id": "2af33375-ab87-4fb8-8943-fb9b89d7736c",
   "metadata": {},
   "outputs": [],
   "source": []
  }
 ],
 "metadata": {
  "kernelspec": {
   "display_name": "Python 3 (ipykernel)",
   "language": "python",
   "name": "python3"
  },
  "language_info": {
   "codemirror_mode": {
    "name": "ipython",
    "version": 3
   },
   "file_extension": ".py",
   "mimetype": "text/x-python",
   "name": "python",
   "nbconvert_exporter": "python",
   "pygments_lexer": "ipython3",
   "version": "3.10.6"
  }
 },
 "nbformat": 4,
 "nbformat_minor": 5
}
