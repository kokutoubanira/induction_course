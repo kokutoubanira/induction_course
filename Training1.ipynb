{
 "cells": [
  {
   "cell_type": "markdown",
   "metadata": {},
   "source": [
    "# Python 入門"
   ]
  },
  {
   "cell_type": "markdown",
   "metadata": {},
   "source": [
    "# Introduction of Python\n",
    "本章では、プログラミング言語 Python の基礎的な文法を学んでいきます。 次章以降に登場するコードを理解するにあたって必要となる最低限の知識について、最短で習得するのが目標です。 より正確かつ詳細な知識を確認したい場合には、公式のチュートリアルなどを参照してください\n",
    "\n",
    "## Pythonってどういう言語なの？どういう特徴もってるの？\n",
    "\n",
    "プログラミング言語には、Python 以外にも C 言語や Java、Ruby、R のように様々なものがあります。それぞれの言語がすべての用途に適しているわけではなく、しばしば用途によって得手不得手があります。\n",
    "\n",
    "本チュートリアルでは基本的に Python というプログラミング言語を扱います。 その理由は、Python はデータ解析・機械学習のためのライブラリが充実しており、データ解析や機械学習の分野で最もよく使われている言語だからです。 また、Web アプリケーションフレームワークの開発も活発で、データ解析だけでなく Web サービス開発まで同じ言語で統一して行える点も魅力です。"
   ]
  },
  {
   "cell_type": "markdown",
   "metadata": {},
   "source": [
    "# 1.1 文法とアルゴリズム\n",
    "プログラミングによってある特定の処理をコンピュータで自動化したい場合、文法とアルゴリズムの 2 つを理解しておく必要があります。\n",
    "\n",
    "プログラムでは、まずはじめにコンピュータに命令を伝えるためのルールとなる文法を覚える必要があります。 文法を無視した記述があるプログラムは、実行した際にエラーとなり処理が停止します。そのため、文法はしっかりと理解しておく必要があります。\n",
    "\n",
    "ただし、文法さえ理解していれば十分かというとそうではありません。一般的に、初学者向けのプログラミングの参考書では、この文法だけを取り扱うことも多いのですが、コンピュータに処理を自動化させることが目的であれば、文法だけでなくアルゴリズムも理解する必要があります。アルゴリズムとは、どういう順番でどのような処理をしていくかの一連の手順をまとめたものです。\n",
    "\n",
    "この章では、Python の文法について紹介し、機械学習やディープラーニングで必要となるアルゴリズムについてはこれ以降の章で紹介します。\n",
    "\n",
    "ここでは以下 4 つの文法に主眼を置きながら説明していきます。\n",
    "\n",
    "    変数\n",
    "\n",
    "    制御構文\n",
    "\n",
    "    関数\n",
    "\n",
    "    クラス\n"
   ]
  },
  {
   "cell_type": "markdown",
   "metadata": {},
   "source": [
    "# 1.2 変数\n",
    "変数 (variable) とは、様々な値を格納することができる、名前がついた入れ物です。 この変数に値を格納したり、更新したりすることで、計算結果を一時的に保持しておくことができます。"
   ]
  },
  {
   "cell_type": "markdown",
   "metadata": {},
   "source": [
    "## 1.2.1 代入と値の確認\n",
    "\n",
    "それでは、a という名前の変数に、1 を代入してみましょう。"
   ]
  },
  {
   "cell_type": "code",
   "execution_count": 1,
   "metadata": {},
   "outputs": [],
   "source": [
    "a = 1"
   ]
  },
  {
   "cell_type": "markdown",
   "metadata": {},
   "source": [
    "代入は = の記号を用います。 数学的には = は等しいという意味を持ちますが、Python では「左辺の変数に、右辺の値を代入する」という意味になります。\n",
    "Jupyter Notebook 上では、変数名だけ、もしくは変数名を最後の行に記述したセルを実行すると、値を確認することができます。"
   ]
  },
  {
   "cell_type": "code",
   "execution_count": 2,
   "metadata": {},
   "outputs": [
    {
     "data": {
      "text/plain": [
       "1"
      ]
     },
     "execution_count": 2,
     "metadata": {},
     "output_type": "execute_result"
    }
   ],
   "source": [
    "a"
   ]
  },
  {
   "cell_type": "markdown",
   "metadata": {},
   "source": [
    "このように、変数に格納されている値を確認することができました。 また、値を確認するための他の方法として、print() と呼ばれる関数 (function) を使用することもできます。 関数について詳しくは後述しますが、print() のように Python には予め多くの関数が定義されています。 そのような関数を組み込み関数 (built-in function) といいます。"
   ]
  },
  {
   "cell_type": "code",
   "execution_count": 3,
   "metadata": {},
   "outputs": [
    {
     "name": "stdout",
     "output_type": "stream",
     "text": [
      "1\n"
     ]
    }
   ],
   "source": [
    "print(a)"
   ]
  },
  {
   "cell_type": "markdown",
   "metadata": {},
   "source": [
    "変数名だけをセルに記入して実行する場合とprint()を利用する場合の違いについては、後述します。\n",
    "\n",
    "変数につける名前は、コードを書く人が自由に決めることができます。 ただし、わかりやすい名前をつけることがとても大切です。 例えば、人の名前を格納するための変数が a という変数名だと、それがどのような使われ方をするのかを容易に類推することができません。 name という名前であれば、ひと目で見て何のための変数かが分かるようになります。 これは、自分のコードを読む他人や、未来の自分にとってコードを理解するための大きな手がかりとなります。"
   ]
  },
  {
   "cell_type": "markdown",
   "metadata": {},
   "source": [
    "## 1.2.2 コメント\n",
    "Python では、# の後からその行の終わりまでに存在する全ての文字列は無視されます。 この # の後ろに続く部分をコメント (comment)と呼び、すでに書かれたコードをコメントにすることをコメントアウト (comment out)と言います。 コメントは、コード中に変数の意味や処理の意味をコードを読む人に伝えるためによく使われます。\n",
    "\n",
    "Jupyter Notebook のコードセルに書かれたコードを行ごとコメントアウトしたい場合は、その行を選択した状態で Ctrl + / を入力することで自動的に行の先頭に # 記号を挿入することができます。複数行を選択していれば、選択された複数の行が同時にコメントアウトされます。また、コメントアウトされている行を選択した状態で同じキー入力を送ると、コメントアウトが解除されます。これをアンコメント (uncomment)と呼ぶこともあります。\n",
    "\n",
    "下のセルを実行してみましょう。"
   ]
  },
  {
   "cell_type": "code",
   "execution_count": null,
   "metadata": {},
   "outputs": [],
   "source": [
    "# この行及び下の行はコメントアウトされているため実行時に無視されます\n",
    "# print(a)"
   ]
  },
  {
   "cell_type": "markdown",
   "metadata": {},
   "source": [
    "`print(a)` が書かれているにも関わらず、何も表示されませんでした。 これは、print(a) 関数が書かれた行がコメントアウトされていたためです。"
   ]
  },
  {
   "cell_type": "markdown",
   "metadata": {},
   "source": [
    "## 1.2.3 変数の型\n",
    "プログラミングで扱う値には種類があります。 Python では、整数 (integer)、実数 (real number)、文字列 (string) などが代表的な値の種類です。 それぞれの種類によって、コンピュータ内での取扱い方が異なり、この種類のことは一般に型 (type) と呼びます。\n",
    "\n",
    "例えば、整数、実数、そして文字列をそれぞれ別々の変数に代入するコードは以下のとおりです。"
   ]
  },
  {
   "cell_type": "code",
   "execution_count": 4,
   "metadata": {},
   "outputs": [],
   "source": [
    "a = 1"
   ]
  },
  {
   "cell_type": "code",
   "execution_count": 5,
   "metadata": {},
   "outputs": [],
   "source": [
    "b = 1.2"
   ]
  },
  {
   "cell_type": "code",
   "execution_count": 6,
   "metadata": {},
   "outputs": [],
   "source": [
    "c = 'Chainer'"
   ]
  },
  {
   "cell_type": "markdown",
   "metadata": {},
   "source": [
    "コンピュータの中での取り扱い方は異なりますが、Python では変数の型を自動的に決定するため、初めのうちはあまり気にする必要はありません。 ただし、違う型同士の演算では場合によってエラーが発生するなどの問題が生じるため、簡単に型の特徴は把握しておく必要があります。\n",
    "\n",
    "まずは、上記の a, b, c の型を確認する方法を紹介します。 型の確認は type() という組み込み関数を使用します。"
   ]
  },
  {
   "cell_type": "code",
   "execution_count": 7,
   "metadata": {},
   "outputs": [
    {
     "data": {
      "text/plain": [
       "int"
      ]
     },
     "execution_count": 7,
     "metadata": {},
     "output_type": "execute_result"
    }
   ],
   "source": [
    "type(a)"
   ]
  },
  {
   "cell_type": "code",
   "execution_count": 8,
   "metadata": {},
   "outputs": [
    {
     "data": {
      "text/plain": [
       "float"
      ]
     },
     "execution_count": 8,
     "metadata": {},
     "output_type": "execute_result"
    }
   ],
   "source": [
    "type(b)"
   ]
  },
  {
   "cell_type": "code",
   "execution_count": 9,
   "metadata": {},
   "outputs": [
    {
     "data": {
      "text/plain": [
       "str"
      ]
     },
     "execution_count": 9,
     "metadata": {},
     "output_type": "execute_result"
    }
   ],
   "source": [
    "type(c)"
   ]
  },
  {
   "cell_type": "markdown",
   "metadata": {},
   "source": [
    "a は int という整数の型をもつ変数であり、b は float という実数の型をもつ変数です。 この float という型の名前は、コンピュータ内で実数を扱うときの形式である浮動小数点数 (floating-point number) に由来しています。\n",
    "\n",
    "c は str という文字列の型をもつ変数であり、値を定義するにはシングルクォーテーション ' ' もしくはダブルクォーテーション \" \" で対象の文字列をくくる必要があります。\n",
    "\n",
    "Python では、. を含まない連続した数字を int、直前・直後も含め . が含まれる連続した数字を float だと自動的に解釈します。 例えば、7 や 365 は int ですが、2.718、.25、10. などは float になります。\n",
    "\n",
    "実数の 0 は 0.0 とも .0 とも 0. とも書くことができます。"
   ]
  },
  {
   "cell_type": "code",
   "execution_count": 13,
   "metadata": {},
   "outputs": [
    {
     "data": {
      "text/plain": [
       "int"
      ]
     },
     "execution_count": 13,
     "metadata": {},
     "output_type": "execute_result"
    }
   ],
   "source": [
    "type(0)"
   ]
  },
  {
   "cell_type": "code",
   "execution_count": 14,
   "metadata": {},
   "outputs": [
    {
     "data": {
      "text/plain": [
       "float"
      ]
     },
     "execution_count": 14,
     "metadata": {},
     "output_type": "execute_result"
    }
   ],
   "source": [
    "type(0.)"
   ]
  },
  {
   "cell_type": "code",
   "execution_count": 15,
   "metadata": {},
   "outputs": [
    {
     "data": {
      "text/plain": [
       "float"
      ]
     },
     "execution_count": 15,
     "metadata": {},
     "output_type": "execute_result"
    }
   ],
   "source": [
    "type(.0)"
   ]
  },
  {
   "cell_type": "markdown",
   "metadata": {},
   "source": [
    "例えば、実数の 5 は以下のように書くことができます。"
   ]
  },
  {
   "cell_type": "code",
   "execution_count": 16,
   "metadata": {},
   "outputs": [
    {
     "data": {
      "text/plain": [
       "float"
      ]
     },
     "execution_count": 16,
     "metadata": {},
     "output_type": "execute_result"
    }
   ],
   "source": [
    "type(5.0)"
   ]
  },
  {
   "cell_type": "code",
   "execution_count": 17,
   "metadata": {},
   "outputs": [
    {
     "data": {
      "text/plain": [
       "float"
      ]
     },
     "execution_count": 17,
     "metadata": {},
     "output_type": "execute_result"
    }
   ],
   "source": [
    "type(5.)"
   ]
  },
  {
   "cell_type": "markdown",
   "metadata": {},
   "source": [
    "一方、.5 と書くと、これは 0.5 の略記と解釈されることに注意してください。"
   ]
  },
  {
   "cell_type": "code",
   "execution_count": 18,
   "metadata": {},
   "outputs": [
    {
     "data": {
      "text/plain": [
       "float"
      ]
     },
     "execution_count": 18,
     "metadata": {},
     "output_type": "execute_result"
    }
   ],
   "source": [
    "type(.5)"
   ]
  },
  {
   "cell_type": "code",
   "execution_count": 19,
   "metadata": {},
   "outputs": [
    {
     "name": "stdout",
     "output_type": "stream",
     "text": [
      "0.5\n"
     ]
    }
   ],
   "source": [
    "print(.5)"
   ]
  },
  {
   "cell_type": "markdown",
   "metadata": {},
   "source": [
    "## 1.2.4 複数同時の代入\n",
    "\n",
    "Python では複数の変数に対する代入を一度に行うことができ、複数同時の代入 (multiple assignment) と呼びます。 例えば、上記の a = 1 と b = 1.2 を同時に一行で記述すると以下のようになります。"
   ]
  },
  {
   "cell_type": "code",
   "execution_count": 20,
   "metadata": {},
   "outputs": [],
   "source": [
    "a, b = 1, 1.2"
   ]
  },
  {
   "cell_type": "markdown",
   "metadata": {},
   "source": [
    "3 つ以上の変数に対して、複数同時の代入を行うことも可能です。"
   ]
  },
  {
   "cell_type": "code",
   "execution_count": 21,
   "metadata": {},
   "outputs": [],
   "source": [
    "a, b, c = 1, 1.2, 'Chainer'"
   ]
  },
  {
   "cell_type": "markdown",
   "metadata": {},
   "source": [
    "複数同時の代入は後の章で頻出するため、覚えておきましょう。"
   ]
  },
  {
   "cell_type": "markdown",
   "metadata": {},
   "source": [
    "## 1.2.5 算術演算子\n",
    "\n",
    "様々な計算を意味する演算子と呼ばれる記号があります。 はじめに紹介するのは算術演算子 (arithmetic operator) と呼ばれるもので、 2 つの変数または値を取り、 1 つの演算結果を返します。\n",
    "\n",
    "代表的な演算として四則演算（加算・減算・乗算・除算）があります。 四則演算に対応する演算子として、Python では以下の記号が用いられます。"
   ]
  },
  {
   "cell_type": "markdown",
   "metadata": {},
   "source": [
    "| 演算 | 記号|\n",
    "|------|-----|\n",
    "|加算| ＋ |\n",
    "|減算| -  |\n",
    "|乗算| *  |\n",
    "|除算| /  |"
   ]
  },
  {
   "cell_type": "markdown",
   "metadata": {},
   "source": [
    "具体例を見ながら使い方を説明します。"
   ]
  },
  {
   "cell_type": "code",
   "execution_count": 23,
   "metadata": {},
   "outputs": [
    {
     "data": {
      "text/plain": [
       "2"
      ]
     },
     "execution_count": 23,
     "metadata": {},
     "output_type": "execute_result"
    }
   ],
   "source": [
    "# 整数と整数で加算 -> 結果は整数\n",
    "1+1"
   ]
  },
  {
   "cell_type": "markdown",
   "metadata": {},
   "source": [
    "このように、演算子を使う際には、記号の両側に値を書きます。 このとき、演算子の両側にひとつずつ空白を空けることが多いです。 文法的な意味はありませんが、コードが読みやすくなります。 この空白は Python のコーディング規約である PEP8 でも推奨されています。\n",
    "PEP8\n",
    "link: https://www.python.org/dev/peps/pep-0008/#should-a-line-break-before-or-after-a-binary-operator"
   ]
  },
  {
   "cell_type": "code",
   "execution_count": null,
   "metadata": {},
   "outputs": [],
   "source": [
    "1 + 1"
   ]
  },
  {
   "cell_type": "markdown",
   "metadata": {},
   "source": [
    "値が代入されている変数との演算も下記のように行うことができます。"
   ]
  },
  {
   "cell_type": "code",
   "execution_count": 24,
   "metadata": {},
   "outputs": [
    {
     "data": {
      "text/plain": [
       "3"
      ]
     },
     "execution_count": 24,
     "metadata": {},
     "output_type": "execute_result"
    }
   ],
   "source": [
    "a + 2"
   ]
  },
  {
   "cell_type": "markdown",
   "metadata": {},
   "source": [
    "また、int と float は異なる型同士ですが、計算を行うことができます。 int と float の演算結果の型は float になります。"
   ]
  },
  {
   "cell_type": "code",
   "execution_count": 25,
   "metadata": {},
   "outputs": [
    {
     "data": {
      "text/plain": [
       "2.2"
      ]
     },
     "execution_count": 25,
     "metadata": {},
     "output_type": "execute_result"
    }
   ],
   "source": [
    "# 整数と実数で加算 -> 結果は実数\n",
    "a + b"
   ]
  },
  {
   "cell_type": "markdown",
   "metadata": {},
   "source": [
    "他の演算子の例を示します。"
   ]
  },
  {
   "cell_type": "code",
   "execution_count": 28,
   "metadata": {},
   "outputs": [
    {
     "data": {
      "text/plain": [
       "1"
      ]
     },
     "execution_count": 28,
     "metadata": {},
     "output_type": "execute_result"
    }
   ],
   "source": [
    "# 整数と整数で減算 -> 結果は整数\n",
    "2 - 1"
   ]
  },
  {
   "cell_type": "code",
   "execution_count": 29,
   "metadata": {},
   "outputs": [
    {
     "data": {
      "text/plain": [
       "1.5"
      ]
     },
     "execution_count": 29,
     "metadata": {},
     "output_type": "execute_result"
    }
   ],
   "source": [
    "# 実数と整数で減算 -> 結果は実数\n",
    "3.5 - 2"
   ]
  },
  {
   "cell_type": "code",
   "execution_count": 30,
   "metadata": {},
   "outputs": [
    {
     "data": {
      "text/plain": [
       "15"
      ]
     },
     "execution_count": 30,
     "metadata": {},
     "output_type": "execute_result"
    }
   ],
   "source": [
    "# 整数と整数で乗算 -> 結果は整数\n",
    "3 * 5"
   ]
  },
  {
   "cell_type": "code",
   "execution_count": 31,
   "metadata": {},
   "outputs": [
    {
     "data": {
      "text/plain": [
       "5.0"
      ]
     },
     "execution_count": 31,
     "metadata": {},
     "output_type": "execute_result"
    }
   ],
   "source": [
    "# 実数と整数で乗算 -> 結果は実数\n",
    "2.5 * 2"
   ]
  },
  {
   "cell_type": "code",
   "execution_count": 32,
   "metadata": {},
   "outputs": [
    {
     "data": {
      "text/plain": [
       "1.5"
      ]
     },
     "execution_count": 32,
     "metadata": {},
     "output_type": "execute_result"
    }
   ],
   "source": [
    "# 整数と整数で除算 -> 結果は実数\n",
    "3 / 2"
   ]
  },
  {
   "cell_type": "code",
   "execution_count": 33,
   "metadata": {},
   "outputs": [
    {
     "data": {
      "text/plain": [
       "2.0"
      ]
     },
     "execution_count": 33,
     "metadata": {},
     "output_type": "execute_result"
    }
   ],
   "source": [
    "# 整数と整数で除算 -> 結果は実数\n",
    "4 / 2"
   ]
  },
  {
   "cell_type": "markdown",
   "metadata": {},
   "source": [
    "Python 3 では、 / 記号を用いて除算を行う場合、除数（割る数）と被除数（割られる数）が整数であっても、計算結果として実数が返ります。 計算結果として実数を返す除算のことを特に、真の除算 (true division) と言います。 一方、商（整数部分）を返すような除算演算子として、 // 記号が用意されています。 / 記号を 2 回、間を空けずに繰り返します。計算結果として商を返す除算のことを、 切り捨て除算 (floor division) と呼びます。 商を計算したい場合に便利な演算子であるため、こちらも覚えておきましょう。\n",
    "\n",
    "※ Python 2 では、除数も被除数も整数であった場合、 / 記号を用いても切り捨て除算が行われるので注意してください"
   ]
  },
  {
   "cell_type": "code",
   "execution_count": 34,
   "metadata": {},
   "outputs": [
    {
     "data": {
      "text/plain": [
       "1"
      ]
     },
     "execution_count": 34,
     "metadata": {},
     "output_type": "execute_result"
    }
   ],
   "source": [
    "# 整数と整数で切り捨て除算 -> 結果は整数\n",
    "3 // 2"
   ]
  },
  {
   "cell_type": "code",
   "execution_count": 35,
   "metadata": {},
   "outputs": [
    {
     "data": {
      "text/plain": [
       "2"
      ]
     },
     "execution_count": 35,
     "metadata": {},
     "output_type": "execute_result"
    }
   ],
   "source": [
    "# 整数と整数で切り捨て除算 -> 結果は整数\n",
    "4 // 2"
   ]
  },
  {
   "cell_type": "markdown",
   "metadata": {},
   "source": [
    "また、ここで注意すべき点として、整数や実数と文字列の演算は基本的にエラーになります。"
   ]
  },
  {
   "cell_type": "code",
   "execution_count": 36,
   "metadata": {},
   "outputs": [
    {
     "ename": "TypeError",
     "evalue": "unsupported operand type(s) for +: 'int' and 'str'",
     "output_type": "error",
     "traceback": [
      "\u001b[1;31m---------------------------------------------------------------------------\u001b[0m",
      "\u001b[1;31mTypeError\u001b[0m                                 Traceback (most recent call last)",
      "\u001b[1;32m<ipython-input-36-55aa9ef9ae69>\u001b[0m in \u001b[0;36m<module>\u001b[1;34m\u001b[0m\n\u001b[0;32m      1\u001b[0m \u001b[1;31m# error\u001b[0m\u001b[1;33m\u001b[0m\u001b[1;33m\u001b[0m\u001b[1;33m\u001b[0m\u001b[0m\n\u001b[1;32m----> 2\u001b[1;33m \u001b[0ma\u001b[0m \u001b[1;33m+\u001b[0m \u001b[0mc\u001b[0m\u001b[1;33m\u001b[0m\u001b[1;33m\u001b[0m\u001b[0m\n\u001b[0m",
      "\u001b[1;31mTypeError\u001b[0m: unsupported operand type(s) for +: 'int' and 'str'"
     ]
    }
   ],
   "source": [
    "# error\n",
    "a + c"
   ]
  },
  {
   "cell_type": "markdown",
   "metadata": {},
   "source": [
    "エラーメッセージを読みましょう。\n",
    "\n",
    "    TypeError: unsupported operand type(s) for +: 『int』 and 『str』\n",
    "\n",
    "と言われています。「+ にとって int と str はサポートされていない被作用子（+ が作用する対象のこと。operand）です」と書かれています。「int に str を足す」ということはできないというわけです。\n",
    "\n",
    "int もしくは float と、 str の間の加算、減算、除算では上記のエラーが生じます。 ただし、str と int の乗算は特別にサポートされており、計算を実行することができます。"
   ]
  },
  {
   "cell_type": "code",
   "execution_count": 37,
   "metadata": {},
   "outputs": [
    {
     "data": {
      "text/plain": [
       "'ChainerChainerChainer'"
      ]
     },
     "execution_count": 37,
     "metadata": {},
     "output_type": "execute_result"
    }
   ],
   "source": [
    "# str と int で乗算\n",
    "c * 3"
   ]
  },
  {
   "cell_type": "markdown",
   "metadata": {},
   "source": [
    "上のコードは、c という文字列を 3 回繰り返す、という意味になります。\n",
    "\n",
    "str 同士は足し算を行うことができます。"
   ]
  },
  {
   "cell_type": "code",
   "execution_count": 38,
   "metadata": {},
   "outputs": [
    {
     "data": {
      "text/plain": [
       "'Chainerチュートリアル'"
      ]
     },
     "execution_count": 38,
     "metadata": {},
     "output_type": "execute_result"
    }
   ],
   "source": [
    "name1 = 'Chainer'\n",
    "name2 = 'チュートリアル'\n",
    "\n",
    "name1 + name2"
   ]
  },
  {
   "cell_type": "markdown",
   "metadata": {},
   "source": [
    "整数と文字列を連結したいこともあります。 例えば、1 という整数に、 '番目' という文字列を足して '1番目' という文字列を作りたいような場合です。 その場合には、型を変換するキャスト (cast) という操作をする必要があります。\n",
    "\n",
    "何かを int にキャストしたい場合は int() という組み込み関数を使い、str にキャストしたい場合は str() という組み込み関数を使います。では、1 という整数を str にキャストして、 '番目' という文字列と足し算を行ってみましょう。"
   ]
  },
  {
   "cell_type": "code",
   "execution_count": 39,
   "metadata": {},
   "outputs": [
    {
     "data": {
      "text/plain": [
       "1"
      ]
     },
     "execution_count": 39,
     "metadata": {},
     "output_type": "execute_result"
    }
   ],
   "source": [
    "1"
   ]
  },
  {
   "cell_type": "code",
   "execution_count": 40,
   "metadata": {},
   "outputs": [
    {
     "data": {
      "text/plain": [
       "int"
      ]
     },
     "execution_count": 40,
     "metadata": {},
     "output_type": "execute_result"
    }
   ],
   "source": [
    "type(1)"
   ]
  },
  {
   "cell_type": "code",
   "execution_count": 41,
   "metadata": {},
   "outputs": [
    {
     "data": {
      "text/plain": [
       "'1'"
      ]
     },
     "execution_count": 41,
     "metadata": {},
     "output_type": "execute_result"
    }
   ],
   "source": [
    "str(1)"
   ]
  },
  {
   "cell_type": "code",
   "execution_count": 42,
   "metadata": {},
   "outputs": [
    {
     "data": {
      "text/plain": [
       "str"
      ]
     },
     "execution_count": 42,
     "metadata": {},
     "output_type": "execute_result"
    }
   ],
   "source": [
    "type(str(1))"
   ]
  },
  {
   "cell_type": "code",
   "execution_count": 43,
   "metadata": {},
   "outputs": [
    {
     "data": {
      "text/plain": [
       "'1番目'"
      ]
     },
     "execution_count": 43,
     "metadata": {},
     "output_type": "execute_result"
    }
   ],
   "source": [
    "str(1) + '番目'"
   ]
  },
  {
   "cell_type": "markdown",
   "metadata": {},
   "source": [
    "また、+= や -= もよく使います。 これは、演算と代入を合わせて行うもので、累積代入文 (augmented assignment statement) と呼ばれます。\n",
    "\n",
    "下記に示すとおり、+= では左辺の変数に対して右辺の値を足した結果で、左辺の変数を更新します。"
   ]
  },
  {
   "cell_type": "code",
   "execution_count": 44,
   "metadata": {},
   "outputs": [
    {
     "data": {
      "text/plain": [
       "1"
      ]
     },
     "execution_count": 44,
     "metadata": {},
     "output_type": "execute_result"
    }
   ],
   "source": [
    "# 累積代入文を使わない場合\n",
    "count = 0\n",
    "count = count + 1\n",
    "count"
   ]
  },
  {
   "cell_type": "code",
   "execution_count": 45,
   "metadata": {},
   "outputs": [
    {
     "data": {
      "text/plain": [
       "1"
      ]
     },
     "execution_count": 45,
     "metadata": {},
     "output_type": "execute_result"
    }
   ],
   "source": [
    "# 累積代入文を使う場合\n",
    "count = 0\n",
    "count += 1\n",
    "count"
   ]
  },
  {
   "cell_type": "markdown",
   "metadata": {},
   "source": [
    "四則演算の全てで累積代入文を利用することができます。 つまり、+=, -=, *=, /= がそれぞれ利用可能です。\n",
    "\n",
    "Python には、他にも幾つかの算術演算子が用意されています。 例えば以下の演算子です"
   ]
  },
  {
   "cell_type": "markdown",
   "metadata": {},
   "source": [
    "|演算 | 記号 |\n",
    "|-----|------|\n",
    "|累乗 | ** | \n",
    "|剰余 | % |\n",
    "\n",
    "** を使うと、2^3 は以下のように記述することができます。"
   ]
  },
  {
   "cell_type": "code",
   "execution_count": 46,
   "metadata": {},
   "outputs": [
    {
     "data": {
      "text/plain": [
       "8"
      ]
     },
     "execution_count": 46,
     "metadata": {},
     "output_type": "execute_result"
    }
   ],
   "source": [
    "# 累乗\n",
    "2 ** 3"
   ]
  },
  {
   "cell_type": "markdown",
   "metadata": {},
   "source": [
    "% を使って、9 を 2 で割った余りを計算してみましょう。"
   ]
  },
  {
   "cell_type": "code",
   "execution_count": 47,
   "metadata": {},
   "outputs": [
    {
     "data": {
      "text/plain": [
       "1"
      ]
     },
     "execution_count": 47,
     "metadata": {},
     "output_type": "execute_result"
    }
   ],
   "source": [
    "# 剰余\n",
    "9 % 2"
   ]
  },
  {
   "cell_type": "markdown",
   "metadata": {},
   "source": [
    "## 1.2.6　比較演算子"
   ]
  },
  {
   "cell_type": "markdown",
   "metadata": {},
   "source": []
  }
 ],
 "metadata": {
  "interpreter": {
   "hash": "97ae724bfa85b9b34df7982b8bb8c7216f435b92902d749e4263f71162bea840"
  },
  "kernelspec": {
   "display_name": "Python 3.7.6 ('base')",
   "language": "python",
   "name": "python3"
  },
  "language_info": {
   "codemirror_mode": {
    "name": "ipython",
    "version": 3
   },
   "file_extension": ".py",
   "mimetype": "text/x-python",
   "name": "python",
   "nbconvert_exporter": "python",
   "pygments_lexer": "ipython3",
   "version": "3.7.6"
  },
  "orig_nbformat": 4
 },
 "nbformat": 4,
 "nbformat_minor": 2
}
